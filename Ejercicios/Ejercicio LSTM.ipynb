{
 "cells": [
  {
   "cell_type": "markdown",
   "metadata": {},
   "source": [
    "## Main task\n",
    "Given the weather and pollution conditions of the previous 1 hour, it is required to forecast the pollution in the next hour."
   ]
  },
  {
   "cell_type": "markdown",
   "metadata": {},
   "source": [
    "### Dataset\n",
    "This is a dataset that reports on the weather and the level of pollution each hour for five years at the US embassy in Beijing, China.\n",
    "\n",
    "The data includes the date-time, the pollution called PM2.5 concentration, and the weather information including dew point, temperature, pressure, wind direction, wind speed and the cumulative number of hours of snow and rain. The complete feature list in the raw data is as follows:\n",
    "\n",
    "1. No: row number\n",
    "2. year: year of data in this row\n",
    "3. month: month of data in this row\n",
    "4. day: day of data in this row\n",
    "5. hour: hour of data in this row\n",
    "6. pm2.5: PM2.5 concentration\n",
    "7. DEWP: Dew Point\n",
    "8. TEMP: Temperature\n",
    "9. PRES: Pressure\n",
    "10. cbwd: Combined wind direction\n",
    "11. Iws: Cumulated wind speed\n",
    "12. Is: Cumulated hours of snow\n",
    "13. Ir: Cumulated hours of rain"
   ]
  },
  {
   "cell_type": "markdown",
   "metadata": {},
   "source": [
    "### Whole process"
   ]
  },
  {
   "cell_type": "markdown",
   "metadata": {},
   "source": [
    "#### Import packages\n",
    "You should probably use: pandas, scikit-learn, keras."
   ]
  },
  {
   "cell_type": "code",
   "execution_count": 1,
   "metadata": {},
   "outputs": [
    {
     "name": "stderr",
     "output_type": "stream",
     "text": [
      "Using TensorFlow backend.\n"
     ]
    }
   ],
   "source": []
  },
  {
   "cell_type": "markdown",
   "metadata": {},
   "source": [
    "#### Load dataset"
   ]
  },
  {
   "cell_type": "code",
   "execution_count": 2,
   "metadata": {},
   "outputs": [],
   "source": []
  },
  {
   "cell_type": "markdown",
   "metadata": {},
   "source": [
    "#### Descriptive analysis\n",
    "What should we do here?"
   ]
  },
  {
   "cell_type": "code",
   "execution_count": 3,
   "metadata": {},
   "outputs": [
    {
     "data": {
      "text/html": [
       "<div>\n",
       "<style scoped>\n",
       "    .dataframe tbody tr th:only-of-type {\n",
       "        vertical-align: middle;\n",
       "    }\n",
       "\n",
       "    .dataframe tbody tr th {\n",
       "        vertical-align: top;\n",
       "    }\n",
       "\n",
       "    .dataframe thead th {\n",
       "        text-align: right;\n",
       "    }\n",
       "</style>\n",
       "<table border=\"1\" class=\"dataframe\">\n",
       "  <thead>\n",
       "    <tr style=\"text-align: right;\">\n",
       "      <th></th>\n",
       "      <th>No</th>\n",
       "      <th>year</th>\n",
       "      <th>month</th>\n",
       "      <th>day</th>\n",
       "      <th>hour</th>\n",
       "      <th>pm2.5</th>\n",
       "      <th>DEWP</th>\n",
       "      <th>TEMP</th>\n",
       "      <th>PRES</th>\n",
       "      <th>cbwd</th>\n",
       "      <th>Iws</th>\n",
       "      <th>Is</th>\n",
       "      <th>Ir</th>\n",
       "    </tr>\n",
       "  </thead>\n",
       "  <tbody>\n",
       "    <tr>\n",
       "      <th>0</th>\n",
       "      <td>1</td>\n",
       "      <td>2010</td>\n",
       "      <td>1</td>\n",
       "      <td>1</td>\n",
       "      <td>0</td>\n",
       "      <td>NaN</td>\n",
       "      <td>-21</td>\n",
       "      <td>-11.0</td>\n",
       "      <td>1021.0</td>\n",
       "      <td>NW</td>\n",
       "      <td>1.79</td>\n",
       "      <td>0</td>\n",
       "      <td>0</td>\n",
       "    </tr>\n",
       "    <tr>\n",
       "      <th>1</th>\n",
       "      <td>2</td>\n",
       "      <td>2010</td>\n",
       "      <td>1</td>\n",
       "      <td>1</td>\n",
       "      <td>1</td>\n",
       "      <td>NaN</td>\n",
       "      <td>-21</td>\n",
       "      <td>-12.0</td>\n",
       "      <td>1020.0</td>\n",
       "      <td>NW</td>\n",
       "      <td>4.92</td>\n",
       "      <td>0</td>\n",
       "      <td>0</td>\n",
       "    </tr>\n",
       "    <tr>\n",
       "      <th>2</th>\n",
       "      <td>3</td>\n",
       "      <td>2010</td>\n",
       "      <td>1</td>\n",
       "      <td>1</td>\n",
       "      <td>2</td>\n",
       "      <td>NaN</td>\n",
       "      <td>-21</td>\n",
       "      <td>-11.0</td>\n",
       "      <td>1019.0</td>\n",
       "      <td>NW</td>\n",
       "      <td>6.71</td>\n",
       "      <td>0</td>\n",
       "      <td>0</td>\n",
       "    </tr>\n",
       "    <tr>\n",
       "      <th>3</th>\n",
       "      <td>4</td>\n",
       "      <td>2010</td>\n",
       "      <td>1</td>\n",
       "      <td>1</td>\n",
       "      <td>3</td>\n",
       "      <td>NaN</td>\n",
       "      <td>-21</td>\n",
       "      <td>-14.0</td>\n",
       "      <td>1019.0</td>\n",
       "      <td>NW</td>\n",
       "      <td>9.84</td>\n",
       "      <td>0</td>\n",
       "      <td>0</td>\n",
       "    </tr>\n",
       "    <tr>\n",
       "      <th>4</th>\n",
       "      <td>5</td>\n",
       "      <td>2010</td>\n",
       "      <td>1</td>\n",
       "      <td>1</td>\n",
       "      <td>4</td>\n",
       "      <td>NaN</td>\n",
       "      <td>-20</td>\n",
       "      <td>-12.0</td>\n",
       "      <td>1018.0</td>\n",
       "      <td>NW</td>\n",
       "      <td>12.97</td>\n",
       "      <td>0</td>\n",
       "      <td>0</td>\n",
       "    </tr>\n",
       "  </tbody>\n",
       "</table>\n",
       "</div>"
      ],
      "text/plain": [
       "   No  year  month  day  hour  pm2.5  DEWP  TEMP    PRES cbwd    Iws  Is  Ir\n",
       "0   1  2010      1    1     0    NaN   -21 -11.0  1021.0   NW   1.79   0   0\n",
       "1   2  2010      1    1     1    NaN   -21 -12.0  1020.0   NW   4.92   0   0\n",
       "2   3  2010      1    1     2    NaN   -21 -11.0  1019.0   NW   6.71   0   0\n",
       "3   4  2010      1    1     3    NaN   -21 -14.0  1019.0   NW   9.84   0   0\n",
       "4   5  2010      1    1     4    NaN   -20 -12.0  1018.0   NW  12.97   0   0"
      ]
     },
     "execution_count": 3,
     "metadata": {},
     "output_type": "execute_result"
    }
   ],
   "source": []
  },
  {
   "cell_type": "code",
   "execution_count": null,
   "metadata": {},
   "outputs": [],
   "source": []
  },
  {
   "cell_type": "markdown",
   "metadata": {},
   "source": [
    "#### Data transformation\n",
    "Can we see any required transformation of our data?"
   ]
  },
  {
   "cell_type": "code",
   "execution_count": null,
   "metadata": {},
   "outputs": [],
   "source": []
  },
  {
   "cell_type": "code",
   "execution_count": 17,
   "metadata": {},
   "outputs": [],
   "source": [
    "# checkpoint\n",
    "pollution.to_csv(\"pollution_clean.csv\")"
   ]
  },
  {
   "cell_type": "code",
   "execution_count": null,
   "metadata": {},
   "outputs": [],
   "source": []
  },
  {
   "cell_type": "markdown",
   "metadata": {},
   "source": [
    "#### Data preparation for the RNN model\n",
    "Remember the structure of the data for LSTM:\n",
    "\n",
    "[samples, timesteps, features]"
   ]
  },
  {
   "cell_type": "code",
   "execution_count": null,
   "metadata": {},
   "outputs": [],
   "source": []
  },
  {
   "cell_type": "code",
   "execution_count": 39,
   "metadata": {},
   "outputs": [
    {
     "name": "stdout",
     "output_type": "stream",
     "text": [
      "(8760, 1, 8) (8760,) (35039, 1, 8) (35039,)\n"
     ]
    }
   ],
   "source": [
    "print(X_train.shape, y_train.shape, X_test.shape, y_test.shape)"
   ]
  },
  {
   "cell_type": "code",
   "execution_count": null,
   "metadata": {},
   "outputs": [],
   "source": []
  },
  {
   "cell_type": "markdown",
   "metadata": {},
   "source": [
    "#### Define and fit the model"
   ]
  },
  {
   "cell_type": "code",
   "execution_count": 43,
   "metadata": {},
   "outputs": [
    {
     "name": "stdout",
     "output_type": "stream",
     "text": [
      "WARNING:tensorflow:From d:\\users\\user\\anaconda3\\envs\\rnn\\lib\\site-packages\\keras\\backend\\tensorflow_backend.py:422: The name tf.global_variables is deprecated. Please use tf.compat.v1.global_variables instead.\n",
      "\n"
     ]
    },
    {
     "name": "stderr",
     "output_type": "stream",
     "text": [
      "WARNING:tensorflow:From d:\\users\\user\\anaconda3\\envs\\rnn\\lib\\site-packages\\keras\\backend\\tensorflow_backend.py:422: The name tf.global_variables is deprecated. Please use tf.compat.v1.global_variables instead.\n",
      "\n"
     ]
    },
    {
     "name": "stdout",
     "output_type": "stream",
     "text": [
      "Train on 8760 samples, validate on 35039 samples\n",
      "Epoch 1/50\n",
      " - 1s - loss: 0.0537 - val_loss: 0.0677\n",
      "Epoch 2/50\n",
      " - 0s - loss: 0.0364 - val_loss: 0.0627\n",
      "Epoch 3/50\n",
      " - 0s - loss: 0.0220 - val_loss: 0.0483\n",
      "Epoch 4/50\n",
      " - 0s - loss: 0.0177 - val_loss: 0.0425\n",
      "Epoch 5/50\n",
      " - 0s - loss: 0.0161 - val_loss: 0.0285\n",
      "Epoch 6/50\n",
      " - 0s - loss: 0.0150 - val_loss: 0.0197\n",
      "Epoch 7/50\n",
      " - 0s - loss: 0.0148 - val_loss: 0.0176\n",
      "Epoch 8/50\n",
      " - 0s - loss: 0.0147 - val_loss: 0.0162\n",
      "Epoch 9/50\n",
      " - 0s - loss: 0.0147 - val_loss: 0.0155\n",
      "Epoch 10/50\n",
      " - 0s - loss: 0.0147 - val_loss: 0.0147\n",
      "Epoch 11/50\n",
      " - 0s - loss: 0.0146 - val_loss: 0.0141\n",
      "Epoch 12/50\n",
      " - 0s - loss: 0.0146 - val_loss: 0.0142\n",
      "Epoch 13/50\n",
      " - 0s - loss: 0.0146 - val_loss: 0.0145\n",
      "Epoch 14/50\n",
      " - 0s - loss: 0.0146 - val_loss: 0.0139\n",
      "Epoch 15/50\n",
      " - 0s - loss: 0.0145 - val_loss: 0.0138\n",
      "Epoch 16/50\n",
      " - 0s - loss: 0.0145 - val_loss: 0.0145\n",
      "Epoch 17/50\n",
      " - 0s - loss: 0.0146 - val_loss: 0.0141\n",
      "Epoch 18/50\n",
      " - 0s - loss: 0.0145 - val_loss: 0.0140\n",
      "Epoch 19/50\n",
      " - 0s - loss: 0.0145 - val_loss: 0.0139\n",
      "Epoch 20/50\n",
      " - 0s - loss: 0.0145 - val_loss: 0.0143\n",
      "Epoch 21/50\n",
      " - 0s - loss: 0.0145 - val_loss: 0.0139\n",
      "Epoch 22/50\n",
      " - 0s - loss: 0.0145 - val_loss: 0.0141\n",
      "Epoch 23/50\n",
      " - 0s - loss: 0.0145 - val_loss: 0.0138\n",
      "Epoch 24/50\n",
      " - 0s - loss: 0.0143 - val_loss: 0.0142\n",
      "Epoch 25/50\n",
      " - 0s - loss: 0.0145 - val_loss: 0.0141\n",
      "Epoch 26/50\n",
      " - 0s - loss: 0.0144 - val_loss: 0.0138\n",
      "Epoch 27/50\n",
      " - 0s - loss: 0.0145 - val_loss: 0.0138\n",
      "Epoch 28/50\n",
      " - 0s - loss: 0.0145 - val_loss: 0.0142\n",
      "Epoch 29/50\n",
      " - 0s - loss: 0.0145 - val_loss: 0.0138\n",
      "Epoch 30/50\n",
      " - 0s - loss: 0.0143 - val_loss: 0.0140\n",
      "Epoch 31/50\n",
      " - 0s - loss: 0.0145 - val_loss: 0.0138\n",
      "Epoch 32/50\n",
      " - 0s - loss: 0.0143 - val_loss: 0.0141\n",
      "Epoch 33/50\n",
      " - 0s - loss: 0.0145 - val_loss: 0.0140\n",
      "Epoch 34/50\n",
      " - 0s - loss: 0.0142 - val_loss: 0.0138\n",
      "Epoch 35/50\n",
      " - 0s - loss: 0.0145 - val_loss: 0.0138\n",
      "Epoch 36/50\n",
      " - 0s - loss: 0.0143 - val_loss: 0.0141\n",
      "Epoch 37/50\n",
      " - 0s - loss: 0.0144 - val_loss: 0.0137\n",
      "Epoch 38/50\n",
      " - 0s - loss: 0.0143 - val_loss: 0.0139\n",
      "Epoch 39/50\n",
      " - 0s - loss: 0.0145 - val_loss: 0.0137\n",
      "Epoch 40/50\n",
      " - 0s - loss: 0.0143 - val_loss: 0.0140\n",
      "Epoch 41/50\n",
      " - 0s - loss: 0.0144 - val_loss: 0.0137\n",
      "Epoch 42/50\n",
      " - 0s - loss: 0.0143 - val_loss: 0.0137\n",
      "Epoch 43/50\n",
      " - 0s - loss: 0.0145 - val_loss: 0.0136\n",
      "Epoch 44/50\n",
      " - 0s - loss: 0.0145 - val_loss: 0.0137\n",
      "Epoch 45/50\n",
      " - 0s - loss: 0.0145 - val_loss: 0.0137\n",
      "Epoch 46/50\n",
      " - 0s - loss: 0.0144 - val_loss: 0.0137\n",
      "Epoch 47/50\n",
      " - 0s - loss: 0.0144 - val_loss: 0.0136\n",
      "Epoch 48/50\n",
      " - 0s - loss: 0.0144 - val_loss: 0.0135\n",
      "Epoch 49/50\n",
      " - 0s - loss: 0.0145 - val_loss: 0.0136\n",
      "Epoch 50/50\n",
      " - 0s - loss: 0.0144 - val_loss: 0.0137\n"
     ]
    }
   ],
   "source": [
    "model = Sequential()\n",
    "model.add(LSTM(50, input_shape=(X_train.shape[1], X_train.shape[2])))\n",
    "model.add(Dense(1))\n",
    "model.compile(loss='mae', optimizer='adam')\n",
    "# fit network\n",
    "history = model.fit(X_train, y_train, epochs=50, batch_size=72, validation_data=(X_test, y_test), verbose=2, shuffle=False)"
   ]
  },
  {
   "cell_type": "code",
   "execution_count": 45,
   "metadata": {},
   "outputs": [],
   "source": []
  },
  {
   "cell_type": "code",
   "execution_count": 46,
   "metadata": {},
   "outputs": [
    {
     "data": {
      "image/png": "[encoded data removed]",
      "text/plain": [
       "<Figure size 432x288 with 1 Axes>"
      ]
     },
     "metadata": {
      "needs_background": "light"
     },
     "output_type": "display_data"
    }
   ],
   "source": [
    "# plot history\n",
    "pyplot.plot(history.history['loss'], label='train')\n",
    "pyplot.plot(history.history['val_loss'], label='test')\n",
    "pyplot.legend()\n",
    "pyplot.show()"
   ]
  },
  {
   "cell_type": "code",
   "execution_count": null,
   "metadata": {},
   "outputs": [],
   "source": []
  },
  {
   "cell_type": "code",
   "execution_count": null,
   "metadata": {},
   "outputs": [],
   "source": []
  },
  {
   "cell_type": "code",
   "execution_count": null,
   "metadata": {},
   "outputs": [],
   "source": []
  },
  {
   "cell_type": "code",
   "execution_count": null,
   "metadata": {},
   "outputs": [],
   "source": []
  },
  {
   "cell_type": "code",
   "execution_count": null,
   "metadata": {},
   "outputs": [],
   "source": []
  },
  {
   "cell_type": "code",
   "execution_count": null,
   "metadata": {},
   "outputs": [],
   "source": []
  },
  {
   "cell_type": "markdown",
   "metadata": {},
   "source": [
    "## Main task\n",
    "Given the weather and pollution conditions of the previous 3 hours, it is required to forecast the pollution in the next hour."
   ]
  },
  {
   "cell_type": "code",
   "execution_count": null,
   "metadata": {},
   "outputs": [],
   "source": []
  },
  {
   "cell_type": "code",
   "execution_count": 26,
   "metadata": {},
   "outputs": [
    {
     "name": "stdout",
     "output_type": "stream",
     "text": [
      "(8760, 3, 8) (8760,) (35037, 3, 8) (35037,)\n"
     ]
    }
   ],
   "source": [
    "print(X_train.shape, y_train.shape, X_test.shape, y_test.shape)"
   ]
  },
  {
   "cell_type": "code",
   "execution_count": 28,
   "metadata": {},
   "outputs": [
    {
     "name": "stdout",
     "output_type": "stream",
     "text": [
      "WARNING:tensorflow:From d:\\users\\user\\anaconda3\\envs\\rnn\\lib\\site-packages\\tensorflow_core\\python\\ops\\resource_variable_ops.py:1630: calling BaseResourceVariable.__init__ (from tensorflow.python.ops.resource_variable_ops) with constraint is deprecated and will be removed in a future version.\n",
      "Instructions for updating:\n",
      "If using Keras pass *_constraint arguments to layers.\n",
      "WARNING:tensorflow:From d:\\users\\user\\anaconda3\\envs\\rnn\\lib\\site-packages\\keras\\backend\\tensorflow_backend.py:422: The name tf.global_variables is deprecated. Please use tf.compat.v1.global_variables instead.\n",
      "\n",
      "Train on 8760 samples, validate on 35037 samples\n",
      "Epoch 1/50\n",
      " - 1s - loss: 0.0393 - val_loss: 0.0419\n",
      "Epoch 2/50\n",
      " - 1s - loss: 0.0234 - val_loss: 0.0224\n",
      "Epoch 3/50\n",
      " - 1s - loss: 0.0210 - val_loss: 0.0198\n",
      "Epoch 4/50\n",
      " - 1s - loss: 0.0200 - val_loss: 0.0196\n",
      "Epoch 5/50\n",
      " - 1s - loss: 0.0200 - val_loss: 0.0205\n",
      "Epoch 6/50\n",
      " - 1s - loss: 0.0195 - val_loss: 0.0188\n",
      "Epoch 7/50\n",
      " - 1s - loss: 0.0190 - val_loss: 0.0187\n",
      "Epoch 8/50\n",
      " - 1s - loss: 0.0188 - val_loss: 0.0175\n",
      "Epoch 9/50\n",
      " - 1s - loss: 0.0185 - val_loss: 0.0175\n",
      "Epoch 10/50\n",
      " - 1s - loss: 0.0177 - val_loss: 0.0169\n",
      "Epoch 11/50\n",
      " - 1s - loss: 0.0171 - val_loss: 0.0170\n",
      "Epoch 12/50\n",
      " - 1s - loss: 0.0169 - val_loss: 0.0167\n",
      "Epoch 13/50\n",
      " - 1s - loss: 0.0162 - val_loss: 0.0171\n",
      "Epoch 14/50\n",
      " - 1s - loss: 0.0160 - val_loss: 0.0174\n",
      "Epoch 15/50\n",
      " - 1s - loss: 0.0157 - val_loss: 0.0169\n",
      "Epoch 16/50\n",
      " - 1s - loss: 0.0152 - val_loss: 0.0177\n",
      "Epoch 17/50\n",
      " - 1s - loss: 0.0152 - val_loss: 0.0175\n",
      "Epoch 18/50\n",
      " - 1s - loss: 0.0151 - val_loss: 0.0168\n",
      "Epoch 19/50\n",
      " - 1s - loss: 0.0148 - val_loss: 0.0171\n",
      "Epoch 20/50\n",
      " - 1s - loss: 0.0149 - val_loss: 0.0167\n",
      "Epoch 21/50\n",
      " - 1s - loss: 0.0149 - val_loss: 0.0162\n",
      "Epoch 22/50\n",
      " - 1s - loss: 0.0147 - val_loss: 0.0162\n",
      "Epoch 23/50\n",
      " - 1s - loss: 0.0147 - val_loss: 0.0155\n",
      "Epoch 24/50\n",
      " - 1s - loss: 0.0145 - val_loss: 0.0159\n",
      "Epoch 25/50\n",
      " - 1s - loss: 0.0147 - val_loss: 0.0147\n",
      "Epoch 26/50\n",
      " - 1s - loss: 0.0145 - val_loss: 0.0146\n",
      "Epoch 27/50\n",
      " - 1s - loss: 0.0144 - val_loss: 0.0148\n",
      "Epoch 28/50\n",
      " - 1s - loss: 0.0145 - val_loss: 0.0145\n",
      "Epoch 29/50\n",
      " - 1s - loss: 0.0145 - val_loss: 0.0147\n",
      "Epoch 30/50\n",
      " - 1s - loss: 0.0145 - val_loss: 0.0144\n",
      "Epoch 31/50\n",
      " - 1s - loss: 0.0144 - val_loss: 0.0143\n",
      "Epoch 32/50\n",
      " - 1s - loss: 0.0144 - val_loss: 0.0143\n",
      "Epoch 33/50\n",
      " - 1s - loss: 0.0143 - val_loss: 0.0142\n",
      "Epoch 34/50\n",
      " - 1s - loss: 0.0144 - val_loss: 0.0142\n",
      "Epoch 35/50\n",
      " - 1s - loss: 0.0144 - val_loss: 0.0141\n",
      "Epoch 36/50\n",
      " - 1s - loss: 0.0143 - val_loss: 0.0139\n",
      "Epoch 37/50\n",
      " - 1s - loss: 0.0143 - val_loss: 0.0139\n",
      "Epoch 38/50\n",
      " - 1s - loss: 0.0143 - val_loss: 0.0140\n",
      "Epoch 39/50\n",
      " - 1s - loss: 0.0144 - val_loss: 0.0138\n",
      "Epoch 40/50\n",
      " - 1s - loss: 0.0143 - val_loss: 0.0138\n",
      "Epoch 41/50\n",
      " - 1s - loss: 0.0143 - val_loss: 0.0137\n",
      "Epoch 42/50\n",
      " - 1s - loss: 0.0143 - val_loss: 0.0137\n",
      "Epoch 43/50\n",
      " - 1s - loss: 0.0143 - val_loss: 0.0137\n",
      "Epoch 44/50\n",
      " - 1s - loss: 0.0143 - val_loss: 0.0136\n",
      "Epoch 45/50\n",
      " - 1s - loss: 0.0142 - val_loss: 0.0138\n",
      "Epoch 46/50\n",
      " - 1s - loss: 0.0143 - val_loss: 0.0139\n",
      "Epoch 47/50\n",
      " - 1s - loss: 0.0143 - val_loss: 0.0139\n",
      "Epoch 48/50\n",
      " - 1s - loss: 0.0143 - val_loss: 0.0140\n",
      "Epoch 49/50\n",
      " - 1s - loss: 0.0144 - val_loss: 0.0142\n",
      "Epoch 50/50\n",
      " - 1s - loss: 0.0143 - val_loss: 0.0138\n"
     ]
    }
   ],
   "source": [
    "model = Sequential()\n",
    "model.add(LSTM(50, input_shape=(X_train.shape[1], X_train.shape[2])))\n",
    "model.add(Dense(1))\n",
    "model.compile(loss='mae', optimizer='adam')\n",
    "# fit network\n",
    "history = model.fit(X_train, y_train, epochs=50, batch_size=72, validation_data=(X_test, y_test), verbose=2, shuffle=False)"
   ]
  },
  {
   "cell_type": "code",
   "execution_count": null,
   "metadata": {},
   "outputs": [],
   "source": []
  },
  {
   "cell_type": "code",
   "execution_count": 29,
   "metadata": {},
   "outputs": [
    {
     "data": {
      "image/png": "[encoded data removed]",
      "text/plain": [
       "<Figure size 432x288 with 1 Axes>"
      ]
     },
     "metadata": {
      "needs_background": "light"
     },
     "output_type": "display_data"
    }
   ],
   "source": [
    "pyplot.plot(history.history['loss'], label='train')\n",
    "pyplot.plot(history.history['val_loss'], label='test')\n",
    "pyplot.legend()\n",
    "pyplot.show()"
   ]
  },
  {
   "cell_type": "code",
   "execution_count": null,
   "metadata": {},
   "outputs": [],
   "source": []
  },
  {
   "cell_type": "code",
   "execution_count": null,
   "metadata": {},
   "outputs": [],
   "source": []
  },
  {
   "cell_type": "code",
   "execution_count": 40,
   "metadata": {},
   "outputs": [
    {
     "name": "stdout",
     "output_type": "stream",
     "text": [
      "Test RMSE: 26.545\n"
     ]
    }
   ],
   "source": [
    "# calculate RMSE\n",
    "rmse = sqrt(mean_squared_error(inv_y, inv_yhat))\n",
    "print('Test RMSE: %.3f' % rmse)"
   ]
  },
  {
   "cell_type": "code",
   "execution_count": null,
   "metadata": {},
   "outputs": [],
   "source": []
  },
  {
   "cell_type": "code",
   "execution_count": null,
   "metadata": {},
   "outputs": [],
   "source": []
  }
 ],
 "metadata": {
  "kernelspec": {
   "display_name": "Python 3",
   "language": "python",
   "name": "python3"
  },
  "language_info": {
   "codemirror_mode": {
    "name": "ipython",
    "version": 3
   },
   "file_extension": ".py",
   "mimetype": "text/x-python",
   "name": "python",
   "nbconvert_exporter": "python",
   "pygments_lexer": "ipython3",
   "version": "3.5.6"
  }
 },
 "nbformat": 4,
 "nbformat_minor": 4
}
