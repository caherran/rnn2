{
 "cells": [
  {
   "cell_type": "markdown",
   "metadata": {},
   "source": [
    "# ¿Cómo se relacionan los rendimientos y la volatilidad para las acciones de energía y el mercado en general?"
   ]
  },
  {
   "cell_type": "markdown",
   "metadata": {},
   "source": [
    "## Introducción"
   ]
  },
  {
   "cell_type": "markdown",
   "metadata": {},
   "source": [
    "**Contexto empresarial.** Usted es analista de un gran banco centrado en inversiones en acciones de recursos naturales. Recientemente, realizó un análisis de las siguientes acciones de energía y cómo su volumen de operaciones está relacionado con su volatilidad:\n",
    "\n",
    "1. Dominion Energy Inc. (Stock Symbol: D)\n",
    "2. Exelon Corp. (Stock Symbol: EXC)\n",
    "3. NextEra Energy Inc. (Stock Symbol: NEE)\n",
    "4. Southern Co. (Stock Symbol: SO)\n",
    "5. Duke Energy Corp. (Stock Symbol: DUK)\n",
    "\n",
    "Su jefe quiere que realice un análisis para poder averiguar cómo dimensionar las posiciones potenciales en estas acciones ... es decir, qué porcentaje de la cartera de inversiones debería dedicarse a cada una de estas acciones. Específicamente, quiere que observe los rendimientos diarios y la volatilidad de cada acción, así como del mercado en general (es decir, no solo del sector energético).\n",
    "\n",
    "Esto es importante porque una alta volatilidad implica un mayor riesgo, y a su jefe le gustaría saber si los rendimientos potenciales de estas acciones de energía de alta volatilidad lo compensan por el riesgo adicional. Además, debido a que su desempeño se mide o se compara con el mercado en general, quiere comprender si estas acciones generalmente superan al mercado en general."
   ]
  },
  {
   "cell_type": "markdown",
   "metadata": {},
   "source": [
    "**Problema de negocio.** Basado en el contexto anterior, su jefe le ha hecho la siguiente pregunta: **\"¿Cuál es la relación entre la volatilidad diaria y los rendimientos de estas acciones y cuál es la relación entre los rendimientos diarios de estas acciones? y el mercado de valores en general?\"**"
   ]
  },
  {
   "cell_type": "markdown",
   "metadata": {},
   "source": [
    "**Contexto analítico.** Los datos que le han proporcionado están en formato de valores separados por comas (CSV) y comprenden datos de precios y volumen de operaciones para las acciones anteriores. Procederá mediante: (1) realizar una limpieza preliminar de los datos; (2) crear características adicionales necesarias para nuestro análisis; (3) etiquetar los datos en grupos de volatilidad, o regímenes, y determinar cómo la volatilidad se relaciona con los rendimientos; y finalmente (4) comparar estos rendimientos con los del mercado en general."
   ]
  },
  {
   "cell_type": "code",
   "execution_count": 1,
   "metadata": {},
   "outputs": [],
   "source": [
    "# Import libraries required for this case: pandas, numpy, seaborn\n"
   ]
  },
  {
   "cell_type": "markdown",
   "metadata": {},
   "source": [
    "## Limpieza de datos preliminar"
   ]
  },
  {
   "cell_type": "markdown",
   "metadata": {},
   "source": [
    "Antes de que podamos continuar con el análisis y el modelado de datos, primero debemos determinar si los datos relevantes son adecuados para continuar tal como están o si necesitan una limpieza adicional. En este caso, hemos recibido un archivo de valores separados por comas (CSV) que incluye los siguientes datos:\n",
    "\n",
    "1. **Date:** The day of the year\n",
    "2. **Open:** The stock opening price of the day\n",
    "3. **High:** The highest observed stock price of the day\n",
    "4. **Low:** The lowest observed stock price of the day\n",
    "5. **Close:** The stock closing price of the day\n",
    "6. **Adj Close:** The adjusted stock closing price for the day (adjusted for splits and dividends)\n",
    "7. **Volume:** The volume of the stock traded over the day\n",
    "8. **Symbol:** The symbol for that particular stock\n",
    "\n",
    "Un problema muy común que surge en los conjuntos de datos son los valores perdidos. Veamos cómo identificar si nuestro conjunto de datos tiene o no este problema y cómo lidiar con los valores faltantes."
   ]
  },
  {
   "cell_type": "code",
   "execution_count": 2,
   "metadata": {
    "scrolled": false
   },
   "outputs": [
    {
     "data": {
      "text/html": [
       "<div>\n",
       "<style scoped>\n",
       "    .dataframe tbody tr th:only-of-type {\n",
       "        vertical-align: middle;\n",
       "    }\n",
       "\n",
       "    .dataframe tbody tr th {\n",
       "        vertical-align: top;\n",
       "    }\n",
       "\n",
       "    .dataframe thead th {\n",
       "        text-align: right;\n",
       "    }\n",
       "</style>\n",
       "<table border=\"1\" class=\"dataframe\">\n",
       "  <thead>\n",
       "    <tr style=\"text-align: right;\">\n",
       "      <th></th>\n",
       "      <th>Date</th>\n",
       "      <th>Open</th>\n",
       "      <th>High</th>\n",
       "      <th>Low</th>\n",
       "      <th>Close</th>\n",
       "      <th>Adj Close</th>\n",
       "      <th>Volume</th>\n",
       "      <th>Symbol</th>\n",
       "    </tr>\n",
       "  </thead>\n",
       "  <tbody>\n",
       "    <tr>\n",
       "      <th>0</th>\n",
       "      <td>2014-07-28</td>\n",
       "      <td>69.750000</td>\n",
       "      <td>71.059998</td>\n",
       "      <td>69.750000</td>\n",
       "      <td>70.879997</td>\n",
       "      <td>57.963978</td>\n",
       "      <td>1806400.0</td>\n",
       "      <td>D</td>\n",
       "    </tr>\n",
       "    <tr>\n",
       "      <th>1</th>\n",
       "      <td>2014-07-29</td>\n",
       "      <td>70.669998</td>\n",
       "      <td>70.980003</td>\n",
       "      <td>69.930000</td>\n",
       "      <td>69.930000</td>\n",
       "      <td>57.187099</td>\n",
       "      <td>2231100.0</td>\n",
       "      <td>D</td>\n",
       "    </tr>\n",
       "    <tr>\n",
       "      <th>2</th>\n",
       "      <td>2014-07-30</td>\n",
       "      <td>70.000000</td>\n",
       "      <td>70.660004</td>\n",
       "      <td>68.400002</td>\n",
       "      <td>68.970001</td>\n",
       "      <td>56.402020</td>\n",
       "      <td>2588900.0</td>\n",
       "      <td>D</td>\n",
       "    </tr>\n",
       "    <tr>\n",
       "      <th>3</th>\n",
       "      <td>2014-07-31</td>\n",
       "      <td>68.629997</td>\n",
       "      <td>68.849998</td>\n",
       "      <td>67.580002</td>\n",
       "      <td>67.639999</td>\n",
       "      <td>55.314388</td>\n",
       "      <td>3266900.0</td>\n",
       "      <td>D</td>\n",
       "    </tr>\n",
       "    <tr>\n",
       "      <th>4</th>\n",
       "      <td>2014-08-01</td>\n",
       "      <td>67.330002</td>\n",
       "      <td>68.410004</td>\n",
       "      <td>67.220001</td>\n",
       "      <td>67.589996</td>\n",
       "      <td>55.273487</td>\n",
       "      <td>2601800.0</td>\n",
       "      <td>D</td>\n",
       "    </tr>\n",
       "  </tbody>\n",
       "</table>\n",
       "</div>"
      ],
      "text/plain": [
       "         Date       Open       High        Low      Close  Adj Close  \\\n",
       "0  2014-07-28  69.750000  71.059998  69.750000  70.879997  57.963978   \n",
       "1  2014-07-29  70.669998  70.980003  69.930000  69.930000  57.187099   \n",
       "2  2014-07-30  70.000000  70.660004  68.400002  68.970001  56.402020   \n",
       "3  2014-07-31  68.629997  68.849998  67.580002  67.639999  55.314388   \n",
       "4  2014-08-01  67.330002  68.410004  67.220001  67.589996  55.273487   \n",
       "\n",
       "      Volume Symbol  \n",
       "0  1806400.0      D  \n",
       "1  2231100.0      D  \n",
       "2  2588900.0      D  \n",
       "3  3266900.0      D  \n",
       "4  2601800.0      D  "
      ]
     },
     "execution_count": 2,
     "metadata": {},
     "output_type": "execute_result"
    }
   ],
   "source": [
    "# Load and view head of DataFrame\n",
    "raw_df = pd.read_csv('EnergySectorData.csv')\n",
    "raw_df.head()"
   ]
  },
  {
   "cell_type": "markdown",
   "metadata": {},
   "source": [
    "Comencemos por determinar si tenemos valores perdidos. Podemos usar el método ```isnull()``` de DataFrame en pandas para verificar los valores de ```NaN``` en raw_df (es decir, verificar los valores nulos):"
   ]
  },
  {
   "cell_type": "code",
   "execution_count": 4,
   "metadata": {
    "scrolled": true
   },
   "outputs": [
    {
     "data": {
      "text/plain": [
       "Date          0\n",
       "Open          2\n",
       "High         14\n",
       "Low           7\n",
       "Close         7\n",
       "Adj Close     7\n",
       "Volume       22\n",
       "Symbol        0\n",
       "dtype: int64"
      ]
     },
     "execution_count": 4,
     "metadata": {},
     "output_type": "execute_result"
    }
   ],
   "source": [
    "# Check if there are missing values (NaNs)\n",
    "raw_df.isnull().sum()"
   ]
  },
  {
   "cell_type": "markdown",
   "metadata": {},
   "source": [
    "Aquí vemos que tenemos algunos valores perdidos. En su lugar, usemos el método ``mean()`` para determinar qué porcentaje de cada columna nos falta."
   ]
  },
  {
   "cell_type": "code",
   "execution_count": 4,
   "metadata": {},
   "outputs": [
    {
     "data": {
      "text/plain": [
       "Date         0.000000\n",
       "Open         0.000319\n",
       "High         0.002231\n",
       "Low          0.001116\n",
       "Close        0.001116\n",
       "Adj Close    0.001116\n",
       "Volume       0.003506\n",
       "Symbol       0.000000\n",
       "dtype: float64"
      ]
     },
     "execution_count": 4,
     "metadata": {},
     "output_type": "execute_result"
    }
   ],
   "source": [
    "raw_df.isnull().mean()"
   ]
  },
  {
   "cell_type": "markdown",
   "metadata": {},
   "source": [
    "Vemos aquí que nos falta menos del **X,X%** de las observaciones en una columna determinada.\n",
    "\n"
   ]
  },
  {
   "cell_type": "markdown",
   "metadata": {},
   "source": [
    "### Ejercicio 1:\n",
    "No queremos que falten valores en nuestro análisis. ¿Cuál de las siguientes opciones es la PEOR opción sobre cómo proceder en este caso?\n",
    "\n",
    "(a) Completar el valor faltante de cualquier día con el valor del día anterior\n",
    "\n",
    "(b) Reemplazar los valores faltantes volviendo a recopilar los datos\n",
    "\n",
    "(c) Estimar los valores faltantes interpolando los valores de otros puntos de datos similares\n",
    "\n",
    "(d) Eliminar filas del conjunto de datos que contienen valores faltantes"
   ]
  },
  {
   "cell_type": "markdown",
   "metadata": {},
   "source": [
    "Proceder utilizando el enfoque definido"
   ]
  },
  {
   "cell_type": "code",
   "execution_count": 5,
   "metadata": {},
   "outputs": [],
   "source": []
  },
  {
   "cell_type": "markdown",
   "metadata": {},
   "source": [
    "## Estandarización de fechas"
   ]
  },
  {
   "cell_type": "markdown",
   "metadata": {},
   "source": [
    "Nos gustaría poder analizar estas acciones juntas a lo largo del tiempo. Esto sería más fácil si todas las acciones no contuvieran datos faltantes para el mismo conjunto de fechas. Primero averigüemos si este es el caso. Una forma de hacer esto es usar el método ```groupby``` para agrupar por ```Date```, luego usar la función ```count ()``` para enumerar cuántas fechas distintas tenemos. Dado que hay un total de 1259 filas por símbolo, debe haber un recuento de 1259 para cada símbolo."
   ]
  },
  {
   "cell_type": "code",
   "execution_count": 8,
   "metadata": {
    "scrolled": true
   },
   "outputs": [
    {
     "data": {
      "text/html": [
       "<div>\n",
       "<style scoped>\n",
       "    .dataframe tbody tr th:only-of-type {\n",
       "        vertical-align: middle;\n",
       "    }\n",
       "\n",
       "    .dataframe tbody tr th {\n",
       "        vertical-align: top;\n",
       "    }\n",
       "\n",
       "    .dataframe thead th {\n",
       "        text-align: right;\n",
       "    }\n",
       "</style>\n",
       "<table border=\"1\" class=\"dataframe\">\n",
       "  <thead>\n",
       "    <tr style=\"text-align: right;\">\n",
       "      <th></th>\n",
       "      <th>Date</th>\n",
       "      <th>Open</th>\n",
       "      <th>High</th>\n",
       "      <th>Low</th>\n",
       "      <th>Close</th>\n",
       "      <th>Adj Close</th>\n",
       "      <th>Volume</th>\n",
       "    </tr>\n",
       "    <tr>\n",
       "      <th>Symbol</th>\n",
       "      <th></th>\n",
       "      <th></th>\n",
       "      <th></th>\n",
       "      <th></th>\n",
       "      <th></th>\n",
       "      <th></th>\n",
       "      <th></th>\n",
       "    </tr>\n",
       "  </thead>\n",
       "  <tbody>\n",
       "    <tr>\n",
       "      <th>D</th>\n",
       "      <td>1230</td>\n",
       "      <td>1230</td>\n",
       "      <td>1230</td>\n",
       "      <td>1230</td>\n",
       "      <td>1230</td>\n",
       "      <td>1230</td>\n",
       "      <td>1230</td>\n",
       "    </tr>\n",
       "    <tr>\n",
       "      <th>DUK</th>\n",
       "      <td>1249</td>\n",
       "      <td>1249</td>\n",
       "      <td>1249</td>\n",
       "      <td>1249</td>\n",
       "      <td>1249</td>\n",
       "      <td>1249</td>\n",
       "      <td>1249</td>\n",
       "    </tr>\n",
       "    <tr>\n",
       "      <th>EXC</th>\n",
       "      <td>1239</td>\n",
       "      <td>1239</td>\n",
       "      <td>1239</td>\n",
       "      <td>1239</td>\n",
       "      <td>1239</td>\n",
       "      <td>1239</td>\n",
       "      <td>1239</td>\n",
       "    </tr>\n",
       "    <tr>\n",
       "      <th>NEE</th>\n",
       "      <td>1251</td>\n",
       "      <td>1251</td>\n",
       "      <td>1251</td>\n",
       "      <td>1251</td>\n",
       "      <td>1251</td>\n",
       "      <td>1251</td>\n",
       "      <td>1251</td>\n",
       "    </tr>\n",
       "    <tr>\n",
       "      <th>SO</th>\n",
       "      <td>1259</td>\n",
       "      <td>1259</td>\n",
       "      <td>1259</td>\n",
       "      <td>1259</td>\n",
       "      <td>1259</td>\n",
       "      <td>1259</td>\n",
       "      <td>1259</td>\n",
       "    </tr>\n",
       "  </tbody>\n",
       "</table>\n",
       "</div>"
      ],
      "text/plain": [
       "        Date  Open  High   Low  Close  Adj Close  Volume\n",
       "Symbol                                                  \n",
       "D       1230  1230  1230  1230   1230       1230    1230\n",
       "DUK     1249  1249  1249  1249   1249       1249    1249\n",
       "EXC     1239  1239  1239  1239   1239       1239    1239\n",
       "NEE     1251  1251  1251  1251   1251       1251    1251\n",
       "SO      1259  1259  1259  1259   1259       1259    1259"
      ]
     },
     "execution_count": 8,
     "metadata": {},
     "output_type": "execute_result"
    }
   ],
   "source": [
    "# How many data rows do we have for each Symbol\n",
    "progress_df.groupby('Symbol').count()"
   ]
  },
  {
   "cell_type": "markdown",
   "metadata": {},
   "source": [
    "Dado que la mayoría de los símbolos no tienen un recuento de 1259 para la columna ``Date``, claramente hay algunos valores inconsistentes. Algunos de estos duplicados tendrán valores perdidos (NaN), así que enumerémoslos de nuevo primero:"
   ]
  },
  {
   "cell_type": "code",
   "execution_count": 9,
   "metadata": {},
   "outputs": [
    {
     "data": {
      "text/plain": [
       "Date          0\n",
       "Open          2\n",
       "High         14\n",
       "Low           7\n",
       "Close         7\n",
       "Adj Close     7\n",
       "Volume       22\n",
       "Symbol        0\n",
       "dtype: int64"
      ]
     },
     "execution_count": 9,
     "metadata": {},
     "output_type": "execute_result"
    }
   ],
   "source": [
    "# Check if there are missing values (NaNs)\n",
    "raw_df.isnull().sum()"
   ]
  },
  {
   "cell_type": "code",
   "execution_count": 8,
   "metadata": {},
   "outputs": [],
   "source": [
    "# Drop the missing values\n",
    "progress_df = raw_df.dropna().copy()"
   ]
  },
  {
   "cell_type": "code",
   "execution_count": 9,
   "metadata": {
    "scrolled": true
   },
   "outputs": [
    {
     "data": {
      "text/html": [
       "<div>\n",
       "<style scoped>\n",
       "    .dataframe tbody tr th:only-of-type {\n",
       "        vertical-align: middle;\n",
       "    }\n",
       "\n",
       "    .dataframe tbody tr th {\n",
       "        vertical-align: top;\n",
       "    }\n",
       "\n",
       "    .dataframe thead th {\n",
       "        text-align: right;\n",
       "    }\n",
       "</style>\n",
       "<table border=\"1\" class=\"dataframe\">\n",
       "  <thead>\n",
       "    <tr style=\"text-align: right;\">\n",
       "      <th></th>\n",
       "      <th>Date</th>\n",
       "      <th>Open</th>\n",
       "      <th>High</th>\n",
       "      <th>Low</th>\n",
       "      <th>Close</th>\n",
       "      <th>Adj Close</th>\n",
       "      <th>Volume</th>\n",
       "    </tr>\n",
       "    <tr>\n",
       "      <th>Symbol</th>\n",
       "      <th></th>\n",
       "      <th></th>\n",
       "      <th></th>\n",
       "      <th></th>\n",
       "      <th></th>\n",
       "      <th></th>\n",
       "      <th></th>\n",
       "    </tr>\n",
       "  </thead>\n",
       "  <tbody>\n",
       "    <tr>\n",
       "      <th>D</th>\n",
       "      <td>1230</td>\n",
       "      <td>1230</td>\n",
       "      <td>1230</td>\n",
       "      <td>1230</td>\n",
       "      <td>1230</td>\n",
       "      <td>1230</td>\n",
       "      <td>1230</td>\n",
       "    </tr>\n",
       "    <tr>\n",
       "      <th>DUK</th>\n",
       "      <td>1249</td>\n",
       "      <td>1249</td>\n",
       "      <td>1249</td>\n",
       "      <td>1249</td>\n",
       "      <td>1249</td>\n",
       "      <td>1249</td>\n",
       "      <td>1249</td>\n",
       "    </tr>\n",
       "    <tr>\n",
       "      <th>EXC</th>\n",
       "      <td>1239</td>\n",
       "      <td>1239</td>\n",
       "      <td>1239</td>\n",
       "      <td>1239</td>\n",
       "      <td>1239</td>\n",
       "      <td>1239</td>\n",
       "      <td>1239</td>\n",
       "    </tr>\n",
       "    <tr>\n",
       "      <th>NEE</th>\n",
       "      <td>1251</td>\n",
       "      <td>1251</td>\n",
       "      <td>1251</td>\n",
       "      <td>1251</td>\n",
       "      <td>1251</td>\n",
       "      <td>1251</td>\n",
       "      <td>1251</td>\n",
       "    </tr>\n",
       "    <tr>\n",
       "      <th>SO</th>\n",
       "      <td>1259</td>\n",
       "      <td>1259</td>\n",
       "      <td>1259</td>\n",
       "      <td>1259</td>\n",
       "      <td>1259</td>\n",
       "      <td>1259</td>\n",
       "      <td>1259</td>\n",
       "    </tr>\n",
       "  </tbody>\n",
       "</table>\n",
       "</div>"
      ],
      "text/plain": [
       "        Date  Open  High   Low  Close  Adj Close  Volume\n",
       "Symbol                                                  \n",
       "D       1230  1230  1230  1230   1230       1230    1230\n",
       "DUK     1249  1249  1249  1249   1249       1249    1249\n",
       "EXC     1239  1239  1239  1239   1239       1239    1239\n",
       "NEE     1251  1251  1251  1251   1251       1251    1251\n",
       "SO      1259  1259  1259  1259   1259       1259    1259"
      ]
     },
     "execution_count": 9,
     "metadata": {},
     "output_type": "execute_result"
    }
   ],
   "source": [
    "# How many data rows do we have for each Symbol\n",
    "progress_df.groupby('Symbol').count()"
   ]
  },
  {
   "cell_type": "markdown",
   "metadata": {},
   "source": [
    "Aún así, vemos que diferentes símbolos tienen diferentes números de fechas. Nos gustaría que todos los símbolos tuvieran el mismo conjunto de fechas para fines de análisis **¿Por qué?**."
   ]
  },
  {
   "cell_type": "markdown",
   "metadata": {},
   "source": [
    "Creemos un nuevo ```clean_df``` que corresponda a un DataFrame con el mismo número de filas para cada ```Símbolo```, donde todos los símbolos comparten el mismo conjunto de fechas:"
   ]
  },
  {
   "cell_type": "code",
   "execution_count": 10,
   "metadata": {
    "scrolled": true
   },
   "outputs": [],
   "source": [
    "set_dates_D = set(progress_df[progress_df['Symbol'] == 'D']['Date'])\n",
    "set_dates_EXC = set(progress_df[progress_df['Symbol'] == 'EXC']['Date'])\n",
    "set_dates_NEE = set(progress_df[progress_df['Symbol'] == 'NEE']['Date'])\n",
    "set_dates_SO = set(progress_df[progress_df['Symbol'] == 'SO']['Date'])\n",
    "set_dates_DUK = set(progress_df[progress_df['Symbol'] == 'DUK']['Date'])\n",
    "set_unique_dates = set.intersection(set_dates_D,set_dates_EXC,set_dates_NEE,set_dates_SO,set_dates_DUK)"
   ]
  },
  {
   "cell_type": "code",
   "execution_count": 11,
   "metadata": {},
   "outputs": [],
   "source": [
    "# Filter new DataFrame for only the dates that are present in every symbol (i.e. the overlapping dates)\n",
    "clean_df = progress_df[progress_df['Date'].isin(set_unique_dates)].copy()"
   ]
  },
  {
   "cell_type": "code",
   "execution_count": 12,
   "metadata": {},
   "outputs": [
    {
     "data": {
      "text/html": [
       "<div>\n",
       "<style scoped>\n",
       "    .dataframe tbody tr th:only-of-type {\n",
       "        vertical-align: middle;\n",
       "    }\n",
       "\n",
       "    .dataframe tbody tr th {\n",
       "        vertical-align: top;\n",
       "    }\n",
       "\n",
       "    .dataframe thead th {\n",
       "        text-align: right;\n",
       "    }\n",
       "</style>\n",
       "<table border=\"1\" class=\"dataframe\">\n",
       "  <thead>\n",
       "    <tr style=\"text-align: right;\">\n",
       "      <th></th>\n",
       "      <th>Date</th>\n",
       "      <th>Open</th>\n",
       "      <th>High</th>\n",
       "      <th>Low</th>\n",
       "      <th>Close</th>\n",
       "      <th>Adj Close</th>\n",
       "      <th>Volume</th>\n",
       "    </tr>\n",
       "    <tr>\n",
       "      <th>Symbol</th>\n",
       "      <th></th>\n",
       "      <th></th>\n",
       "      <th></th>\n",
       "      <th></th>\n",
       "      <th></th>\n",
       "      <th></th>\n",
       "      <th></th>\n",
       "    </tr>\n",
       "  </thead>\n",
       "  <tbody>\n",
       "    <tr>\n",
       "      <th>D</th>\n",
       "      <td>1192</td>\n",
       "      <td>1192</td>\n",
       "      <td>1192</td>\n",
       "      <td>1192</td>\n",
       "      <td>1192</td>\n",
       "      <td>1192</td>\n",
       "      <td>1192</td>\n",
       "    </tr>\n",
       "    <tr>\n",
       "      <th>DUK</th>\n",
       "      <td>1192</td>\n",
       "      <td>1192</td>\n",
       "      <td>1192</td>\n",
       "      <td>1192</td>\n",
       "      <td>1192</td>\n",
       "      <td>1192</td>\n",
       "      <td>1192</td>\n",
       "    </tr>\n",
       "    <tr>\n",
       "      <th>EXC</th>\n",
       "      <td>1192</td>\n",
       "      <td>1192</td>\n",
       "      <td>1192</td>\n",
       "      <td>1192</td>\n",
       "      <td>1192</td>\n",
       "      <td>1192</td>\n",
       "      <td>1192</td>\n",
       "    </tr>\n",
       "    <tr>\n",
       "      <th>NEE</th>\n",
       "      <td>1192</td>\n",
       "      <td>1192</td>\n",
       "      <td>1192</td>\n",
       "      <td>1192</td>\n",
       "      <td>1192</td>\n",
       "      <td>1192</td>\n",
       "      <td>1192</td>\n",
       "    </tr>\n",
       "    <tr>\n",
       "      <th>SO</th>\n",
       "      <td>1192</td>\n",
       "      <td>1192</td>\n",
       "      <td>1192</td>\n",
       "      <td>1192</td>\n",
       "      <td>1192</td>\n",
       "      <td>1192</td>\n",
       "      <td>1192</td>\n",
       "    </tr>\n",
       "  </tbody>\n",
       "</table>\n",
       "</div>"
      ],
      "text/plain": [
       "        Date  Open  High   Low  Close  Adj Close  Volume\n",
       "Symbol                                                  \n",
       "D       1192  1192  1192  1192   1192       1192    1192\n",
       "DUK     1192  1192  1192  1192   1192       1192    1192\n",
       "EXC     1192  1192  1192  1192   1192       1192    1192\n",
       "NEE     1192  1192  1192  1192   1192       1192    1192\n",
       "SO      1192  1192  1192  1192   1192       1192    1192"
      ]
     },
     "execution_count": 12,
     "metadata": {},
     "output_type": "execute_result"
    }
   ],
   "source": [
    "# Si todo salió bien cada símbolo debería estar asociado con 1192 fechas.\n",
    "clean_df.groupby('Symbol').count()"
   ]
  },
  {
   "cell_type": "markdown",
   "metadata": {},
   "source": [
    "Ahora vemos que cada símbolo tiene el mismo número de fechas únicas. Escribamos un programa de verificación rápida para asegurarnos de que el resultado ``clean_df`` tenga las mismas fechas para cada símbolo."
   ]
  },
  {
   "cell_type": "markdown",
   "metadata": {},
   "source": [
    "### Ejercicio 2:\n",
    "Escriba código para asegurarse de que cada uno de los símbolos comparta el mismo conjunto de fechas únicas. (Sugerencia: use el método ``set ()``.)"
   ]
  },
  {
   "cell_type": "code",
   "execution_count": null,
   "metadata": {},
   "outputs": [],
   "source": []
  },
  {
   "cell_type": "code",
   "execution_count": null,
   "metadata": {},
   "outputs": [],
   "source": []
  },
  {
   "cell_type": "markdown",
   "metadata": {},
   "source": [
    "Ahora que hemos completado la limpieza preliminar de los datos, avancemos con la determinación de las relaciones entre: (1) retornos de acciones y volatilidad, y (2) retornos de acciones y retornos de mercado más amplios."
   ]
  },
  {
   "cell_type": "markdown",
   "metadata": {},
   "source": [
    "## Agregar variables adicionales requeridas para nuestro análisis"
   ]
  },
  {
   "cell_type": "markdown",
   "metadata": {},
   "source": [
    "Recuerde que la pregunta original requiere que investiguemos tanto los rendimientos diarios de las acciones como la volatilidad de esos rendimientos. Esto significa que importantes medidas de interés son:\n",
    "\n",
    "1. Daily (open to close) stock return (Return) --> (Close / Open) - 1\n",
    "2. Volatility of daily stock return (VolStat) --> (High - Low) / Open\n",
    "\n",
    "¿Por qué son importantes cada uno de estos?\n",
    "\n",
    "1. Volatilidad: da una idea de la cantidad de movimiento de precios en un día determinado. La volatilidad está directamente relacionada con el nivel de riesgo involucrado en la tenencia de acciones.\n",
    "2. Retorno: nos da una idea del retorno de la inversión durante un período de tiempo.\n",
    "\n",
    "Adicionalmente, creemos una nueva variable llamada Volume_Millions.\n",
    "\n",
    "Calculemos estas estadísticas y agréguelas al DataFrame ```clean_df```:"
   ]
  },
  {
   "cell_type": "code",
   "execution_count": null,
   "metadata": {},
   "outputs": [],
   "source": []
  },
  {
   "cell_type": "code",
   "execution_count": null,
   "metadata": {},
   "outputs": [],
   "source": []
  },
  {
   "cell_type": "code",
   "execution_count": null,
   "metadata": {},
   "outputs": [],
   "source": []
  },
  {
   "cell_type": "markdown",
   "metadata": {},
   "source": [
    "Aquí vemos que hemos agregado tres columnas a ```clean_df```, llamadas, ```VolStat```, ```Return``` y ```Volume_Millions``` (la última es solo por conveniencia, ya que los valores de la columna ``Volumen`` son bastante grandes)."
   ]
  },
  {
   "cell_type": "markdown",
   "metadata": {},
   "source": [
    "Dado que estamos buscando analizar la relación entre la volatilidad diaria y los rendimientos, una columna adicional que tiene sentido agregar es una que dice ``True`` cuando el rendimiento diario es positivo y ``Falso`` cuando el Retorno diario negativo. Luego, podemos agrupar los días en cohortes de rendimiento positivo y negativo y comparar la volatilidad promedio en esos días. Nombraremos esta columna ```ReturnFlag```.\n",
    "\n",
    "Podemos lograr esto usando una **función anónima**; es decir, una función que está definida pero no nombrada:\n",
    "```python\n",
    "lambda argumentos: expresión\n",
    "```\n",
    "\n",
    "La palabra clave ```lambda``` le dice a Python que estamos usando una función anónima. A continuación, los ```argumentos``` son el nombre que damos a las entradas. Puede ser ```x``` o ```y```, o como quiera llamarlo el usuario. En este caso, usaremos el nombre ```fila``` para el nombre del argumento de entrada, ya que la entrada será de hecho una fila de un DataFrame. La ```expresión``` es lo que luego se aplica a los ``` argumentos```; esta es la función.\n",
    "\n",
    "Echemos un vistazo a cómo podemos usar funciones anónimas para crear la columna ``ReturnFlag```:"
   ]
  },
  {
   "cell_type": "code",
   "execution_count": 15,
   "metadata": {},
   "outputs": [
    {
     "data": {
      "text/html": [
       "<div>\n",
       "<style scoped>\n",
       "    .dataframe tbody tr th:only-of-type {\n",
       "        vertical-align: middle;\n",
       "    }\n",
       "\n",
       "    .dataframe tbody tr th {\n",
       "        vertical-align: top;\n",
       "    }\n",
       "\n",
       "    .dataframe thead th {\n",
       "        text-align: right;\n",
       "    }\n",
       "</style>\n",
       "<table border=\"1\" class=\"dataframe\">\n",
       "  <thead>\n",
       "    <tr style=\"text-align: right;\">\n",
       "      <th></th>\n",
       "      <th>Date</th>\n",
       "      <th>Open</th>\n",
       "      <th>High</th>\n",
       "      <th>Low</th>\n",
       "      <th>Close</th>\n",
       "      <th>Adj Close</th>\n",
       "      <th>Volume</th>\n",
       "      <th>Symbol</th>\n",
       "      <th>VolStat</th>\n",
       "      <th>Return</th>\n",
       "      <th>Volume_Millions</th>\n",
       "      <th>ReturnFlag</th>\n",
       "    </tr>\n",
       "  </thead>\n",
       "  <tbody>\n",
       "    <tr>\n",
       "      <th>0</th>\n",
       "      <td>2014-07-28</td>\n",
       "      <td>69.750000</td>\n",
       "      <td>71.059998</td>\n",
       "      <td>69.750000</td>\n",
       "      <td>70.879997</td>\n",
       "      <td>57.963978</td>\n",
       "      <td>1806400.0</td>\n",
       "      <td>D</td>\n",
       "      <td>0.018781</td>\n",
       "      <td>0.016201</td>\n",
       "      <td>1.8064</td>\n",
       "      <td>True</td>\n",
       "    </tr>\n",
       "    <tr>\n",
       "      <th>1</th>\n",
       "      <td>2014-07-29</td>\n",
       "      <td>70.669998</td>\n",
       "      <td>70.980003</td>\n",
       "      <td>69.930000</td>\n",
       "      <td>69.930000</td>\n",
       "      <td>57.187099</td>\n",
       "      <td>2231100.0</td>\n",
       "      <td>D</td>\n",
       "      <td>0.014858</td>\n",
       "      <td>-0.010471</td>\n",
       "      <td>2.2311</td>\n",
       "      <td>False</td>\n",
       "    </tr>\n",
       "    <tr>\n",
       "      <th>2</th>\n",
       "      <td>2014-07-30</td>\n",
       "      <td>70.000000</td>\n",
       "      <td>70.660004</td>\n",
       "      <td>68.400002</td>\n",
       "      <td>68.970001</td>\n",
       "      <td>56.402020</td>\n",
       "      <td>2588900.0</td>\n",
       "      <td>D</td>\n",
       "      <td>0.032286</td>\n",
       "      <td>-0.014714</td>\n",
       "      <td>2.5889</td>\n",
       "      <td>False</td>\n",
       "    </tr>\n",
       "    <tr>\n",
       "      <th>3</th>\n",
       "      <td>2014-07-31</td>\n",
       "      <td>68.629997</td>\n",
       "      <td>68.849998</td>\n",
       "      <td>67.580002</td>\n",
       "      <td>67.639999</td>\n",
       "      <td>55.314388</td>\n",
       "      <td>3266900.0</td>\n",
       "      <td>D</td>\n",
       "      <td>0.018505</td>\n",
       "      <td>-0.014425</td>\n",
       "      <td>3.2669</td>\n",
       "      <td>False</td>\n",
       "    </tr>\n",
       "    <tr>\n",
       "      <th>4</th>\n",
       "      <td>2014-08-01</td>\n",
       "      <td>67.330002</td>\n",
       "      <td>68.410004</td>\n",
       "      <td>67.220001</td>\n",
       "      <td>67.589996</td>\n",
       "      <td>55.273487</td>\n",
       "      <td>2601800.0</td>\n",
       "      <td>D</td>\n",
       "      <td>0.017674</td>\n",
       "      <td>0.003861</td>\n",
       "      <td>2.6018</td>\n",
       "      <td>True</td>\n",
       "    </tr>\n",
       "  </tbody>\n",
       "</table>\n",
       "</div>"
      ],
      "text/plain": [
       "         Date       Open       High        Low      Close  Adj Close  \\\n",
       "0  2014-07-28  69.750000  71.059998  69.750000  70.879997  57.963978   \n",
       "1  2014-07-29  70.669998  70.980003  69.930000  69.930000  57.187099   \n",
       "2  2014-07-30  70.000000  70.660004  68.400002  68.970001  56.402020   \n",
       "3  2014-07-31  68.629997  68.849998  67.580002  67.639999  55.314388   \n",
       "4  2014-08-01  67.330002  68.410004  67.220001  67.589996  55.273487   \n",
       "\n",
       "      Volume Symbol   VolStat    Return  Volume_Millions  ReturnFlag  \n",
       "0  1806400.0      D  0.018781  0.016201           1.8064        True  \n",
       "1  2231100.0      D  0.014858 -0.010471           2.2311       False  \n",
       "2  2588900.0      D  0.032286 -0.014714           2.5889       False  \n",
       "3  3266900.0      D  0.018505 -0.014425           3.2669       False  \n",
       "4  2601800.0      D  0.017674  0.003861           2.6018        True  "
      ]
     },
     "execution_count": 15,
     "metadata": {},
     "output_type": "execute_result"
    }
   ],
   "source": [
    "clean_df['ReturnFlag'] = clean_df.apply(lambda row: True if row['Return'] > 0 else False, axis=1)\n",
    "clean_df.head()"
   ]
  },
  {
   "cell_type": "markdown",
   "metadata": {},
   "source": [
    "Observe que el método ```apply ()``` toma una función anónima y la aplica a las filas del DataFrame mediante el uso del segundo argumento ```axis```. ```axis = 0``` aplica la función a las columnas, mientras que ``axis = 1`` aplica la función a las filas.\n",
    "\n",
    "Entonces, ¿qué está sucediendo en la siguiente declaración?\n",
    "```python\n",
    "clean_df ['ReturnFlag'] = clean_df.apply (lambda row: True if row ['Return]> 0 else False, axis = 1)\n",
    "```\n",
    "\n",
    "1. ```pandas``` reconoció a través del método ``apply`` que está operando en el DataFrame ```clean_df```\n",
    "2. El método ```apply``` toma una función como entrada que se aplicará al DataFrame ``` clean_df```\n",
    "3. Dado que el segundo argumento de ```apply``` es ```axis = 1```, la entrada en la función anónima es una sola fila\n",
    "4. Para cada fila, ```row ['Return']``` devuelve el valor de ``Return`` para esa fila, y posteriormente se pasa a través de la instrucción if, devolviendo True si es mayor que cero y False de otra manera\n",
    "5. El nuevo valor se almacena en la columna ``clean_df ['ReturnFlag']``"
   ]
  },
  {
   "cell_type": "markdown",
   "metadata": {},
   "source": [
    "### Ejercicio 3:\n",
    "\n",
    "Usando ```apply ()``` y ```lambda```, escriba el código para crear una nueva columna llamada ```YYYY``` en ```clean_df```, donde la nueva columna es el año de la observación como una cadena. Por ejemplo, si el valor de la fila ``Date`` es 2014-07-28, entonces el valor en la nueva columna para el año sería '2014'. Recuerde que puede acceder a los primeros 4 caracteres de alguna cadena ```my_string``` usando ```my_string [: 4]```."
   ]
  },
  {
   "cell_type": "code",
   "execution_count": null,
   "metadata": {},
   "outputs": [],
   "source": []
  },
  {
   "cell_type": "code",
   "execution_count": null,
   "metadata": {},
   "outputs": [],
   "source": []
  },
  {
   "cell_type": "code",
   "execution_count": null,
   "metadata": {},
   "outputs": [],
   "source": []
  },
  {
   "cell_type": "markdown",
   "metadata": {},
   "source": [
    "Avancemos con el etiquetado de los regímenes de volatilidad presentes en los datos; estos regímenes son útiles para desglosar el análisis de rendimiento de las acciones por períodos de volatilidad baja, media y alta. Permitirá un análisis más granular que solo mirar los promedios generales sin un desglose."
   ]
  },
  {
   "cell_type": "markdown",
   "metadata": {},
   "source": [
    "### Ejercicio 4:\n",
    "Usando ```apply ()``` y ```lambda```, escriba un script para crear una nueva columna en ``` clean_df``` llamada ```AvgDailyPrice``` que calcula un precio diario promedio basado sobre si el volumen diario supera los 5 millones. Establezca el valor de la nueva columna en (Open + High + Low + Close) / 4 si el volumen es mayor que 5 millones, o establezca el valor en (High + Low + Close) / 3 si el volumen es menor o igual a 5 millones."
   ]
  },
  {
   "cell_type": "code",
   "execution_count": null,
   "metadata": {},
   "outputs": [],
   "source": []
  },
  {
   "cell_type": "code",
   "execution_count": null,
   "metadata": {},
   "outputs": [],
   "source": []
  },
  {
   "cell_type": "markdown",
   "metadata": {},
   "source": [
    "## Etiquetado de regímenes de volatilidad del sector energético"
   ]
  },
  {
   "cell_type": "markdown",
   "metadata": {},
   "source": [
    "Al igual que en el caso 1.2, nos gustaría etiquetar los períodos de alta y baja volatilidad en una nueva columna llamada ``VolLevel`` para cada símbolo, utilizando algunos valores de límite inferior y superior. Por ejemplo, en el caso del Símbolo D nos gustaría tener una nueva columna con valor determinado por:\n",
    "\n",
    "```python\n",
    "if VolStrat > upper_threshold_dict['D']:\n",
    "    VolLevel = '3_HIGH'\n",
    "elif VolStrat < lower_threshold_dict['D']:\n",
    "    VolLevel = '1_LOW'\n",
    "else:\n",
    "    VolLevel = '2_MEDIUM'\n",
    "```\n",
    "\n",
    "Es decir, este etiquetado debe aplicarse a cada fila y los valores de umbral deben corresponder al símbolo de esa fila. Agruparemos por esta columna y veremos si podemos encontrar nuevos conocimientos en los datos."
   ]
  },
  {
   "cell_type": "code",
   "execution_count": 16,
   "metadata": {},
   "outputs": [
    {
     "data": {
      "text/plain": [
       "{'D': 0.010240046986389077,\n",
       " 'DUK': 0.010018315803797114,\n",
       " 'EXC': 0.011881680089172456,\n",
       " 'NEE': 0.010258642787424582,\n",
       " 'SO': 0.009734019893739423}"
      ]
     },
     "execution_count": 16,
     "metadata": {},
     "output_type": "execute_result"
    }
   ],
   "source": [
    "# Determine lower bounds (we choose to use 25th percentile)\n",
    "lower_threshold_dict = clean_df.groupby('Symbol')['VolStat'].quantile(0.25).to_dict() # 25th percentile bound\n",
    "lower_threshold_dict"
   ]
  },
  {
   "cell_type": "code",
   "execution_count": 17,
   "metadata": {},
   "outputs": [
    {
     "data": {
      "text/plain": [
       "{'D': 0.017960914526108228,\n",
       " 'DUK': 0.017598380774085175,\n",
       " 'EXC': 0.021801523265676366,\n",
       " 'NEE': 0.017680218024250814,\n",
       " 'SO': 0.016830447068579304}"
      ]
     },
     "execution_count": 17,
     "metadata": {},
     "output_type": "execute_result"
    }
   ],
   "source": [
    "# Determine upper bounds (we choose to use 75th percentile)\n",
    "upper_threshold_dict = clean_df.groupby('Symbol')['VolStat'].quantile(0.75).to_dict() # 75th percentile bound\n",
    "upper_threshold_dict"
   ]
  },
  {
   "cell_type": "markdown",
   "metadata": {},
   "source": [
    "Nuevamente, nuestro objetivo es etiquetar los períodos de volatilidad baja, media y alta. Definamos una nueva columna llamada ``VolLevel`` para cada símbolo usando algunos valores de límite superior e inferior. Definamos una función personalizada que se aplicará a cada fila para lograr este objetivo."
   ]
  },
  {
   "cell_type": "code",
   "execution_count": 18,
   "metadata": {},
   "outputs": [],
   "source": [
    "# Our custom function, input is a row from the agg_df, and the output is a string, either LOW, MEDIUM, or HIGH\n",
    "def my_custom_row_function(row):\n",
    "    row_symbol = row['Symbol']    # the Symbol value in the row\n",
    "    row_volstat = row['VolStat']  # the VolStat value in the row\n",
    "    \n",
    "    lower_threshold = lower_threshold_dict[row_symbol] # Dictionary of {string:float}\n",
    "    upper_threshold = upper_threshold_dict[row_symbol] # Dictionary of {string:float}\n",
    "    \n",
    "    # The function decision, return value depending on low, medium, or high volatility\n",
    "    if row_volstat > upper_threshold:\n",
    "        return '3_HIGH'\n",
    "    elif row_volstat < lower_threshold:\n",
    "        return '1_LOW'\n",
    "    else:\n",
    "        return '2_MEDIUM'"
   ]
  },
  {
   "cell_type": "markdown",
   "metadata": {},
   "source": [
    "Ahora apliquemos la función a cada fila del DataFrame ```clean_df``` usando la función ``` lambda```. Almacenamos los valores devueltos en la nueva columna ```VolLevel```:"
   ]
  },
  {
   "cell_type": "code",
   "execution_count": 19,
   "metadata": {},
   "outputs": [
    {
     "data": {
      "text/html": [
       "<div>\n",
       "<style scoped>\n",
       "    .dataframe tbody tr th:only-of-type {\n",
       "        vertical-align: middle;\n",
       "    }\n",
       "\n",
       "    .dataframe tbody tr th {\n",
       "        vertical-align: top;\n",
       "    }\n",
       "\n",
       "    .dataframe thead th {\n",
       "        text-align: right;\n",
       "    }\n",
       "</style>\n",
       "<table border=\"1\" class=\"dataframe\">\n",
       "  <thead>\n",
       "    <tr style=\"text-align: right;\">\n",
       "      <th></th>\n",
       "      <th>Date</th>\n",
       "      <th>Open</th>\n",
       "      <th>High</th>\n",
       "      <th>Low</th>\n",
       "      <th>Close</th>\n",
       "      <th>Adj Close</th>\n",
       "      <th>Volume</th>\n",
       "      <th>Symbol</th>\n",
       "      <th>VolStat</th>\n",
       "      <th>Return</th>\n",
       "      <th>Volume_Millions</th>\n",
       "      <th>ReturnFlag</th>\n",
       "      <th>VolLevel</th>\n",
       "    </tr>\n",
       "  </thead>\n",
       "  <tbody>\n",
       "    <tr>\n",
       "      <th>0</th>\n",
       "      <td>2014-07-28</td>\n",
       "      <td>69.750000</td>\n",
       "      <td>71.059998</td>\n",
       "      <td>69.750000</td>\n",
       "      <td>70.879997</td>\n",
       "      <td>57.963978</td>\n",
       "      <td>1806400.0</td>\n",
       "      <td>D</td>\n",
       "      <td>0.018781</td>\n",
       "      <td>0.016201</td>\n",
       "      <td>1.8064</td>\n",
       "      <td>True</td>\n",
       "      <td>3_HIGH</td>\n",
       "    </tr>\n",
       "    <tr>\n",
       "      <th>1</th>\n",
       "      <td>2014-07-29</td>\n",
       "      <td>70.669998</td>\n",
       "      <td>70.980003</td>\n",
       "      <td>69.930000</td>\n",
       "      <td>69.930000</td>\n",
       "      <td>57.187099</td>\n",
       "      <td>2231100.0</td>\n",
       "      <td>D</td>\n",
       "      <td>0.014858</td>\n",
       "      <td>-0.010471</td>\n",
       "      <td>2.2311</td>\n",
       "      <td>False</td>\n",
       "      <td>2_MEDIUM</td>\n",
       "    </tr>\n",
       "    <tr>\n",
       "      <th>2</th>\n",
       "      <td>2014-07-30</td>\n",
       "      <td>70.000000</td>\n",
       "      <td>70.660004</td>\n",
       "      <td>68.400002</td>\n",
       "      <td>68.970001</td>\n",
       "      <td>56.402020</td>\n",
       "      <td>2588900.0</td>\n",
       "      <td>D</td>\n",
       "      <td>0.032286</td>\n",
       "      <td>-0.014714</td>\n",
       "      <td>2.5889</td>\n",
       "      <td>False</td>\n",
       "      <td>3_HIGH</td>\n",
       "    </tr>\n",
       "    <tr>\n",
       "      <th>3</th>\n",
       "      <td>2014-07-31</td>\n",
       "      <td>68.629997</td>\n",
       "      <td>68.849998</td>\n",
       "      <td>67.580002</td>\n",
       "      <td>67.639999</td>\n",
       "      <td>55.314388</td>\n",
       "      <td>3266900.0</td>\n",
       "      <td>D</td>\n",
       "      <td>0.018505</td>\n",
       "      <td>-0.014425</td>\n",
       "      <td>3.2669</td>\n",
       "      <td>False</td>\n",
       "      <td>3_HIGH</td>\n",
       "    </tr>\n",
       "    <tr>\n",
       "      <th>4</th>\n",
       "      <td>2014-08-01</td>\n",
       "      <td>67.330002</td>\n",
       "      <td>68.410004</td>\n",
       "      <td>67.220001</td>\n",
       "      <td>67.589996</td>\n",
       "      <td>55.273487</td>\n",
       "      <td>2601800.0</td>\n",
       "      <td>D</td>\n",
       "      <td>0.017674</td>\n",
       "      <td>0.003861</td>\n",
       "      <td>2.6018</td>\n",
       "      <td>True</td>\n",
       "      <td>2_MEDIUM</td>\n",
       "    </tr>\n",
       "  </tbody>\n",
       "</table>\n",
       "</div>"
      ],
      "text/plain": [
       "         Date       Open       High        Low      Close  Adj Close  \\\n",
       "0  2014-07-28  69.750000  71.059998  69.750000  70.879997  57.963978   \n",
       "1  2014-07-29  70.669998  70.980003  69.930000  69.930000  57.187099   \n",
       "2  2014-07-30  70.000000  70.660004  68.400002  68.970001  56.402020   \n",
       "3  2014-07-31  68.629997  68.849998  67.580002  67.639999  55.314388   \n",
       "4  2014-08-01  67.330002  68.410004  67.220001  67.589996  55.273487   \n",
       "\n",
       "      Volume Symbol   VolStat    Return  Volume_Millions  ReturnFlag  VolLevel  \n",
       "0  1806400.0      D  0.018781  0.016201           1.8064        True    3_HIGH  \n",
       "1  2231100.0      D  0.014858 -0.010471           2.2311       False  2_MEDIUM  \n",
       "2  2588900.0      D  0.032286 -0.014714           2.5889       False    3_HIGH  \n",
       "3  3266900.0      D  0.018505 -0.014425           3.2669       False    3_HIGH  \n",
       "4  2601800.0      D  0.017674  0.003861           2.6018        True  2_MEDIUM  "
      ]
     },
     "execution_count": 19,
     "metadata": {},
     "output_type": "execute_result"
    }
   ],
   "source": [
    "# Apply my_custom_row_function to the Pandas DataFrame, row by row (axis=1)\n",
    "clean_df['VolLevel'] = clean_df.apply(lambda row: my_custom_row_function(row), axis=1)\n",
    "clean_df.head()"
   ]
  },
  {
   "cell_type": "markdown",
   "metadata": {},
   "source": [
    "Si bien el flujo de trabajo aquí puede parecer complejo al principio, la capacidad de aplicar funciones personalizadas, agrupar por ciertas características y construir estadísticas de resumen resultará invaluable a medida que avanza hacia análisis más avanzados."
   ]
  },
  {
   "cell_type": "markdown",
   "metadata": {},
   "source": [
    "### Ejercicio 5:\n",
    "\n",
    "Usando ```clean_df``` y una declaración ```lambda``` dentro de ```apply ()```, escriba una función ```new_custom_function ()``` y un script para agregar una nueva columna a el DataFrame (llámelo ``EnhancedVolLevel``) que opera de manera similar a VolLevel, pero en su lugar da cinco categorías de niveles de volatilidad usando la siguiente lógica para determinar la etiqueta para el nivel de volatilidad:\n",
    "\n",
    "```python\n",
    "if VolStrat > 90th percentile:\n",
    "    VolLevel = '5_VERY_HIGH'\n",
    "elif VolStrat > 75th percentile:\n",
    "    VolLevel = '4_HIGH'\n",
    "elif VolStrat > 25th percentile:\n",
    "    VolLevel = '3_MEDIUM'\n",
    "elif VolStrat > 10th percentile:\n",
    "    VolLevel = '2_LOW'\n",
    "else:\n",
    "    VolLevel = '1_VERY_LOW'\n",
    "```\n",
    "\n",
    "Recuerde que cada percentil debe calcularse mediante un símbolo. Utilice estas nuevas etiquetas para ver si existen patrones entre los niveles de volatilidad y la dirección de los retornos. Produzca el DataFrame para poder ejecutar el siguiente comando:\n",
    "\n",
    "```python\n",
    "clean_df.groupby(['Symbol','EnhancedVolLevel'])['ReturnFlag'].mean()\n",
    "```"
   ]
  },
  {
   "cell_type": "code",
   "execution_count": null,
   "metadata": {},
   "outputs": [],
   "source": []
  },
  {
   "cell_type": "code",
   "execution_count": null,
   "metadata": {},
   "outputs": [],
   "source": []
  },
  {
   "cell_type": "code",
   "execution_count": null,
   "metadata": {},
   "outputs": [],
   "source": []
  },
  {
   "cell_type": "markdown",
   "metadata": {},
   "source": [
    "Vemos que la volatilidad y la rentabilidad de las acciones no muestran patrones sólidos en términos de la dirección de la rentabilidad media (positiva o negativa) para un régimen de volatilidad dado."
   ]
  },
  {
   "cell_type": "markdown",
   "metadata": {},
   "source": [
    "## Comparación de rendimientos de acciones con rendimientos de mercado más amplios"
   ]
  },
  {
   "cell_type": "markdown",
   "metadata": {},
   "source": [
    "Ahora, analicemos la segunda parte de la pregunta de su jefe: ¿cuál es la relación entre los rendimientos más amplios del mercado y los rendimientos de estas cinco acciones de energía? El índice S&P 500 es un índice bursátil compuesto por unas 500 empresas públicas estadounidenses de gran capitalización. El índice se utiliza a menudo como representación del mercado de valores de EE. UU. Si podemos determinar si existe o no una fuerte relación entre los rendimientos de estas 5 acciones de energía y los del índice S&P 500, podemos determinar si hay características idiosincrásicas significativas en juego entre los rendimientos de las acciones del sector energético, o si los rendimientos son impulsado únicamente por el mercado en general.\n",
    "\n",
    "Los rendimientos de mercado para el ETF (fondo cotizado en bolsa) del índice S&P 500 negociable están disponibles en ``SPY.csv`` (el símbolo de \"acciones\" del ETF es SPY). Carguemos los datos y agreguemos los rendimientos diarios a los datos del sector de energía limpia:"
   ]
  },
  {
   "cell_type": "code",
   "execution_count": 21,
   "metadata": {},
   "outputs": [],
   "source": [
    "# Load file into DataFrame\n",
    "market_df = pd.read_csv('SPY.csv')"
   ]
  },
  {
   "cell_type": "code",
   "execution_count": 22,
   "metadata": {},
   "outputs": [
    {
     "data": {
      "text/html": [
       "<div>\n",
       "<style scoped>\n",
       "    .dataframe tbody tr th:only-of-type {\n",
       "        vertical-align: middle;\n",
       "    }\n",
       "\n",
       "    .dataframe tbody tr th {\n",
       "        vertical-align: top;\n",
       "    }\n",
       "\n",
       "    .dataframe thead th {\n",
       "        text-align: right;\n",
       "    }\n",
       "</style>\n",
       "<table border=\"1\" class=\"dataframe\">\n",
       "  <thead>\n",
       "    <tr style=\"text-align: right;\">\n",
       "      <th></th>\n",
       "      <th>Date</th>\n",
       "      <th>Open</th>\n",
       "      <th>High</th>\n",
       "      <th>Low</th>\n",
       "      <th>Close</th>\n",
       "      <th>Adj Close</th>\n",
       "      <th>Volume</th>\n",
       "      <th>Symbol</th>\n",
       "      <th>Return</th>\n",
       "      <th>VolStat</th>\n",
       "    </tr>\n",
       "  </thead>\n",
       "  <tbody>\n",
       "    <tr>\n",
       "      <th>0</th>\n",
       "      <td>2014-08-18</td>\n",
       "      <td>196.800003</td>\n",
       "      <td>197.449997</td>\n",
       "      <td>196.690002</td>\n",
       "      <td>197.360001</td>\n",
       "      <td>178.729111</td>\n",
       "      <td>75424000</td>\n",
       "      <td>SPY</td>\n",
       "      <td>0.002846</td>\n",
       "      <td>0.003862</td>\n",
       "    </tr>\n",
       "    <tr>\n",
       "      <th>1</th>\n",
       "      <td>2014-08-19</td>\n",
       "      <td>197.839996</td>\n",
       "      <td>198.539993</td>\n",
       "      <td>197.440002</td>\n",
       "      <td>198.389999</td>\n",
       "      <td>179.661896</td>\n",
       "      <td>59135000</td>\n",
       "      <td>SPY</td>\n",
       "      <td>0.002780</td>\n",
       "      <td>0.005560</td>\n",
       "    </tr>\n",
       "    <tr>\n",
       "      <th>2</th>\n",
       "      <td>2014-08-20</td>\n",
       "      <td>198.119995</td>\n",
       "      <td>199.160004</td>\n",
       "      <td>198.080002</td>\n",
       "      <td>198.919998</td>\n",
       "      <td>180.141846</td>\n",
       "      <td>72763000</td>\n",
       "      <td>SPY</td>\n",
       "      <td>0.004038</td>\n",
       "      <td>0.005451</td>\n",
       "    </tr>\n",
       "    <tr>\n",
       "      <th>3</th>\n",
       "      <td>2014-08-21</td>\n",
       "      <td>199.089996</td>\n",
       "      <td>199.759995</td>\n",
       "      <td>198.929993</td>\n",
       "      <td>199.500000</td>\n",
       "      <td>180.667160</td>\n",
       "      <td>67791000</td>\n",
       "      <td>SPY</td>\n",
       "      <td>0.002059</td>\n",
       "      <td>0.004169</td>\n",
       "    </tr>\n",
       "    <tr>\n",
       "      <th>4</th>\n",
       "      <td>2014-08-22</td>\n",
       "      <td>199.339996</td>\n",
       "      <td>199.690002</td>\n",
       "      <td>198.740005</td>\n",
       "      <td>199.190002</td>\n",
       "      <td>180.386368</td>\n",
       "      <td>76107000</td>\n",
       "      <td>SPY</td>\n",
       "      <td>-0.000752</td>\n",
       "      <td>0.004766</td>\n",
       "    </tr>\n",
       "  </tbody>\n",
       "</table>\n",
       "</div>"
      ],
      "text/plain": [
       "         Date        Open        High         Low       Close   Adj Close  \\\n",
       "0  2014-08-18  196.800003  197.449997  196.690002  197.360001  178.729111   \n",
       "1  2014-08-19  197.839996  198.539993  197.440002  198.389999  179.661896   \n",
       "2  2014-08-20  198.119995  199.160004  198.080002  198.919998  180.141846   \n",
       "3  2014-08-21  199.089996  199.759995  198.929993  199.500000  180.667160   \n",
       "4  2014-08-22  199.339996  199.690002  198.740005  199.190002  180.386368   \n",
       "\n",
       "     Volume Symbol    Return   VolStat  \n",
       "0  75424000    SPY  0.002846  0.003862  \n",
       "1  59135000    SPY  0.002780  0.005560  \n",
       "2  72763000    SPY  0.004038  0.005451  \n",
       "3  67791000    SPY  0.002059  0.004169  \n",
       "4  76107000    SPY -0.000752  0.004766  "
      ]
     },
     "execution_count": 22,
     "metadata": {},
     "output_type": "execute_result"
    }
   ],
   "source": [
    "market_df['Symbol'] = 'SPY' # add column for symbol\n",
    "market_df['Return'] = (market_df['Close'] / market_df['Open']) - 1.0 # calculate return\n",
    "market_df['VolStat'] = (market_df['High'] - market_df['Low']) / market_df['Open']\n",
    "market_df.head()"
   ]
  },
  {
   "cell_type": "markdown",
   "metadata": {},
   "source": [
    "Nos gustaría fusionar los rendimientos del mercado en ``market_df`` y los datos de stock de energía en ``clean_df``. Esto se puede lograr usando ``pd.merge()`` - un método versátil para unir DataFrames.\n",
    "\n",
    "Para aquellos de ustedes familiarizados con SQL, la combinación y unión de DataFrames se puede lograr de la misma manera que SQL realiza estas tareas. En este caso, nos gustaría usar la intersección de fechas en las fechas ```clean_df``` y ``market_df`` como índices en la fusión (es decir, en lenguaje SQL, realizaremos un ``inner``):"
   ]
  },
  {
   "cell_type": "code",
   "execution_count": 23,
   "metadata": {},
   "outputs": [],
   "source": [
    "# Merge inner (merge market_df onto clean_df using the dates of clean_df as the keys)\n",
    "merged_df = pd.merge(clean_df, market_df[['Date','Return']], how='inner', on='Date', suffixes=('','_SPY'))"
   ]
  },
  {
   "cell_type": "code",
   "execution_count": 24,
   "metadata": {},
   "outputs": [
    {
     "data": {
      "text/plain": [
       "Symbol\n",
       "D      1178\n",
       "DUK    1178\n",
       "EXC    1178\n",
       "NEE    1178\n",
       "SO     1178\n",
       "Name: Date, dtype: int64"
      ]
     },
     "execution_count": 24,
     "metadata": {},
     "output_type": "execute_result"
    }
   ],
   "source": [
    "# Check how many dates are in the intersection\n",
    "merged_df.groupby('Symbol')['Date'].count()"
   ]
  },
  {
   "cell_type": "code",
   "execution_count": 25,
   "metadata": {
    "scrolled": false
   },
   "outputs": [
    {
     "data": {
      "text/html": [
       "<div>\n",
       "<style scoped>\n",
       "    .dataframe tbody tr th:only-of-type {\n",
       "        vertical-align: middle;\n",
       "    }\n",
       "\n",
       "    .dataframe tbody tr th {\n",
       "        vertical-align: top;\n",
       "    }\n",
       "\n",
       "    .dataframe thead th {\n",
       "        text-align: right;\n",
       "    }\n",
       "</style>\n",
       "<table border=\"1\" class=\"dataframe\">\n",
       "  <thead>\n",
       "    <tr style=\"text-align: right;\">\n",
       "      <th></th>\n",
       "      <th>Date</th>\n",
       "      <th>Open</th>\n",
       "      <th>High</th>\n",
       "      <th>Low</th>\n",
       "      <th>Close</th>\n",
       "      <th>Adj Close</th>\n",
       "      <th>Volume</th>\n",
       "      <th>Symbol</th>\n",
       "      <th>VolStat</th>\n",
       "      <th>Return</th>\n",
       "      <th>Volume_Millions</th>\n",
       "      <th>ReturnFlag</th>\n",
       "      <th>VolLevel</th>\n",
       "      <th>EnhancedVolLevel</th>\n",
       "      <th>Return_SPY</th>\n",
       "    </tr>\n",
       "  </thead>\n",
       "  <tbody>\n",
       "    <tr>\n",
       "      <th>0</th>\n",
       "      <td>2014-08-18</td>\n",
       "      <td>68.970001</td>\n",
       "      <td>69.250000</td>\n",
       "      <td>68.559998</td>\n",
       "      <td>68.680000</td>\n",
       "      <td>56.164867</td>\n",
       "      <td>1375600.0</td>\n",
       "      <td>D</td>\n",
       "      <td>0.010004</td>\n",
       "      <td>-0.004205</td>\n",
       "      <td>1.3756</td>\n",
       "      <td>False</td>\n",
       "      <td>1_LOW</td>\n",
       "      <td>2_LOW</td>\n",
       "      <td>0.002846</td>\n",
       "    </tr>\n",
       "    <tr>\n",
       "      <th>1</th>\n",
       "      <td>2014-08-18</td>\n",
       "      <td>31.930000</td>\n",
       "      <td>32.099998</td>\n",
       "      <td>31.730000</td>\n",
       "      <td>31.820000</td>\n",
       "      <td>26.593485</td>\n",
       "      <td>4037400.0</td>\n",
       "      <td>EXC</td>\n",
       "      <td>0.011588</td>\n",
       "      <td>-0.003445</td>\n",
       "      <td>4.0374</td>\n",
       "      <td>False</td>\n",
       "      <td>1_LOW</td>\n",
       "      <td>2_LOW</td>\n",
       "      <td>0.002846</td>\n",
       "    </tr>\n",
       "    <tr>\n",
       "      <th>2</th>\n",
       "      <td>2014-08-18</td>\n",
       "      <td>96.589996</td>\n",
       "      <td>97.180000</td>\n",
       "      <td>95.889999</td>\n",
       "      <td>96.139999</td>\n",
       "      <td>82.166077</td>\n",
       "      <td>1098200.0</td>\n",
       "      <td>NEE</td>\n",
       "      <td>0.013355</td>\n",
       "      <td>-0.004659</td>\n",
       "      <td>1.0982</td>\n",
       "      <td>False</td>\n",
       "      <td>2_MEDIUM</td>\n",
       "      <td>3_MEDIUM</td>\n",
       "      <td>0.002846</td>\n",
       "    </tr>\n",
       "    <tr>\n",
       "      <th>3</th>\n",
       "      <td>2014-08-18</td>\n",
       "      <td>43.529999</td>\n",
       "      <td>43.720001</td>\n",
       "      <td>43.279999</td>\n",
       "      <td>43.380001</td>\n",
       "      <td>34.210857</td>\n",
       "      <td>2979800.0</td>\n",
       "      <td>SO</td>\n",
       "      <td>0.010108</td>\n",
       "      <td>-0.003446</td>\n",
       "      <td>2.9798</td>\n",
       "      <td>False</td>\n",
       "      <td>2_MEDIUM</td>\n",
       "      <td>3_MEDIUM</td>\n",
       "      <td>0.002846</td>\n",
       "    </tr>\n",
       "    <tr>\n",
       "      <th>4</th>\n",
       "      <td>2014-08-18</td>\n",
       "      <td>72.300003</td>\n",
       "      <td>72.650002</td>\n",
       "      <td>71.919998</td>\n",
       "      <td>72.089996</td>\n",
       "      <td>58.080738</td>\n",
       "      <td>1826000.0</td>\n",
       "      <td>DUK</td>\n",
       "      <td>0.010097</td>\n",
       "      <td>-0.002905</td>\n",
       "      <td>1.8260</td>\n",
       "      <td>False</td>\n",
       "      <td>2_MEDIUM</td>\n",
       "      <td>3_MEDIUM</td>\n",
       "      <td>0.002846</td>\n",
       "    </tr>\n",
       "  </tbody>\n",
       "</table>\n",
       "</div>"
      ],
      "text/plain": [
       "         Date       Open       High        Low      Close  Adj Close  \\\n",
       "0  2014-08-18  68.970001  69.250000  68.559998  68.680000  56.164867   \n",
       "1  2014-08-18  31.930000  32.099998  31.730000  31.820000  26.593485   \n",
       "2  2014-08-18  96.589996  97.180000  95.889999  96.139999  82.166077   \n",
       "3  2014-08-18  43.529999  43.720001  43.279999  43.380001  34.210857   \n",
       "4  2014-08-18  72.300003  72.650002  71.919998  72.089996  58.080738   \n",
       "\n",
       "      Volume Symbol   VolStat    Return  Volume_Millions  ReturnFlag  \\\n",
       "0  1375600.0      D  0.010004 -0.004205           1.3756       False   \n",
       "1  4037400.0    EXC  0.011588 -0.003445           4.0374       False   \n",
       "2  1098200.0    NEE  0.013355 -0.004659           1.0982       False   \n",
       "3  2979800.0     SO  0.010108 -0.003446           2.9798       False   \n",
       "4  1826000.0    DUK  0.010097 -0.002905           1.8260       False   \n",
       "\n",
       "   VolLevel EnhancedVolLevel  Return_SPY  \n",
       "0     1_LOW            2_LOW    0.002846  \n",
       "1     1_LOW            2_LOW    0.002846  \n",
       "2  2_MEDIUM         3_MEDIUM    0.002846  \n",
       "3  2_MEDIUM         3_MEDIUM    0.002846  \n",
       "4  2_MEDIUM         3_MEDIUM    0.002846  "
      ]
     },
     "execution_count": 25,
     "metadata": {},
     "output_type": "execute_result"
    }
   ],
   "source": [
    "merged_df.head()"
   ]
  },
  {
   "cell_type": "markdown",
   "metadata": {},
   "source": [
    "### Ejercicio 6:\n",
    "\n",
    "Usando solo el símbolo D en ```clean_df``` y ``market_df``, use ```pd.merge ()``` para determinar cuántas fechas hay en ```clean_df``` que no están en ```market_df```. Además, ¿cuántas fechas hay en ```market_df``` que no están en ```clean_df```? (Sugerencia: isnull () puede ser útil para simplificar la solución)."
   ]
  },
  {
   "cell_type": "code",
   "execution_count": null,
   "metadata": {},
   "outputs": [],
   "source": []
  },
  {
   "cell_type": "code",
   "execution_count": null,
   "metadata": {},
   "outputs": [],
   "source": []
  },
  {
   "cell_type": "code",
   "execution_count": null,
   "metadata": {},
   "outputs": [],
   "source": []
  },
  {
   "cell_type": "markdown",
   "metadata": {},
   "source": [
    "### Ejercicio 7:\n",
    "\n",
    "Use ```market_df``` y ``clean_df`` para crear un nuevo DataFrame ```modified_clean_df``` que es igual que ``clean_df`` pero con una nueva columna llamada ``MeanMonthSPYReturn``. Cada valor en la nueva columna debe ser el rendimiento mensual medio de SPY para el mes dado por cada fila de ``Date``. La salida para la primera y última fila del DataFrame ``modified_clean_df`` debe producir la siguiente salida de head (1) y tail (1):\n",
    "\n",
    "```python\n",
    "print(modified_clean_df[['Date','Symbol','YYYYMM','MeanMonthSPYReturn']].head(1))\n",
    "```\n",
    "\n",
    "                 Date       Symbol YYYYMM MeanMonthSPYReturn\n",
    "                 2014-08-01 D      201408 0.001443\n",
    "\n",
    "```python\n",
    "print(modified_clean_df[['Date','Symbol','YYYYMM','MeanMonthSPYReturn']].tail(1))\n",
    "```\n",
    "                 Date       Symbol YYYYMM MeanMonthSPYReturn\n",
    "                 2019-07-26 DUK    201907 0.000167"
   ]
  },
  {
   "cell_type": "code",
   "execution_count": null,
   "metadata": {},
   "outputs": [],
   "source": []
  },
  {
   "cell_type": "code",
   "execution_count": null,
   "metadata": {},
   "outputs": [],
   "source": []
  },
  {
   "cell_type": "code",
   "execution_count": null,
   "metadata": {},
   "outputs": [],
   "source": []
  },
  {
   "cell_type": "markdown",
   "metadata": {},
   "source": [
    "## Desglose de los rendimientos según el rendimiento general del mercado"
   ]
  },
  {
   "cell_type": "markdown",
   "metadata": {},
   "source": [
    "Ahora podemos comenzar nuestro análisis granular de cómo los retornos de mercado más amplios están relacionados con los retornos de acciones individuales.\n",
    "\n",
    "Comencemos por dividir los rendimientos de mercado más amplios en cuantiles. Este enfoque de análisis con cuantiles que tomaremos se emplea comúnmente en el análisis de datos para determinar cómo la magnitud de una variable se relaciona con otra variable de interés.\n",
    "\n",
    "Podemos explorar esta idea con el método ``pd.qcut ()``. Es decir, ``pd.qcut()`` nos permitirá recortar los rendimientos del mercado por cuantiles (eventualmente los agruparemos por cuantiles) y, por lo tanto, nos permitirá calcular estadísticas resumidas (como el rendimiento promedio) para cada cuantil.\n",
    "\n",
    "Primero extraigamos los retornos usando la conveniencia del método ``pivot()`` en un DataFrame. El pivote de un DataFrame se puede lograr especificando:\n",
    "\n",
    "1. Un índice sobre el que pivotar. En este caso elegimos ``Date``.\n",
    "2. Columnas que nos gustaría tener después del pivote. En este caso, nos gustaría columnas que sean el ``Símbolo``.\n",
    "3. Los valores que mostrará cada par (fila, columna). En este caso nos gustaría tener el ``Return``.\n",
    "\n",
    "Usaremos pivot con ``merged_df`` utilizando estas entradas de parámetros para generar un DataFrame donde las filas son las Fechas, cada columna es el Símbolo y los valores son el retorno diario de apertura a cierre para la fecha y el símbolo dados."
   ]
  },
  {
   "cell_type": "code",
   "execution_count": 26,
   "metadata": {},
   "outputs": [
    {
     "data": {
      "text/html": [
       "<div>\n",
       "<style scoped>\n",
       "    .dataframe tbody tr th:only-of-type {\n",
       "        vertical-align: middle;\n",
       "    }\n",
       "\n",
       "    .dataframe tbody tr th {\n",
       "        vertical-align: top;\n",
       "    }\n",
       "\n",
       "    .dataframe thead th {\n",
       "        text-align: right;\n",
       "    }\n",
       "</style>\n",
       "<table border=\"1\" class=\"dataframe\">\n",
       "  <thead>\n",
       "    <tr style=\"text-align: right;\">\n",
       "      <th>Symbol</th>\n",
       "      <th>D</th>\n",
       "      <th>DUK</th>\n",
       "      <th>EXC</th>\n",
       "      <th>NEE</th>\n",
       "      <th>SO</th>\n",
       "    </tr>\n",
       "    <tr>\n",
       "      <th>Date</th>\n",
       "      <th></th>\n",
       "      <th></th>\n",
       "      <th></th>\n",
       "      <th></th>\n",
       "      <th></th>\n",
       "    </tr>\n",
       "  </thead>\n",
       "  <tbody>\n",
       "    <tr>\n",
       "      <th>2014-08-18</th>\n",
       "      <td>-0.004205</td>\n",
       "      <td>-0.002905</td>\n",
       "      <td>-0.003445</td>\n",
       "      <td>-0.004659</td>\n",
       "      <td>-0.003446</td>\n",
       "    </tr>\n",
       "    <tr>\n",
       "      <th>2014-08-19</th>\n",
       "      <td>0.013250</td>\n",
       "      <td>0.009838</td>\n",
       "      <td>0.001567</td>\n",
       "      <td>0.008393</td>\n",
       "      <td>0.005741</td>\n",
       "    </tr>\n",
       "    <tr>\n",
       "      <th>2014-08-20</th>\n",
       "      <td>0.001438</td>\n",
       "      <td>0.002480</td>\n",
       "      <td>0.000313</td>\n",
       "      <td>0.005349</td>\n",
       "      <td>0.005508</td>\n",
       "    </tr>\n",
       "    <tr>\n",
       "      <th>2014-08-21</th>\n",
       "      <td>0.000718</td>\n",
       "      <td>0.003159</td>\n",
       "      <td>0.010022</td>\n",
       "      <td>0.002147</td>\n",
       "      <td>0.000000</td>\n",
       "    </tr>\n",
       "    <tr>\n",
       "      <th>2014-08-22</th>\n",
       "      <td>-0.004297</td>\n",
       "      <td>-0.008302</td>\n",
       "      <td>0.006213</td>\n",
       "      <td>-0.003470</td>\n",
       "      <td>-0.003195</td>\n",
       "    </tr>\n",
       "  </tbody>\n",
       "</table>\n",
       "</div>"
      ],
      "text/plain": [
       "Symbol             D       DUK       EXC       NEE        SO\n",
       "Date                                                        \n",
       "2014-08-18 -0.004205 -0.002905 -0.003445 -0.004659 -0.003446\n",
       "2014-08-19  0.013250  0.009838  0.001567  0.008393  0.005741\n",
       "2014-08-20  0.001438  0.002480  0.000313  0.005349  0.005508\n",
       "2014-08-21  0.000718  0.003159  0.010022  0.002147  0.000000\n",
       "2014-08-22 -0.004297 -0.008302  0.006213 -0.003470 -0.003195"
      ]
     },
     "execution_count": 26,
     "metadata": {},
     "output_type": "execute_result"
    }
   ],
   "source": [
    "# Extract returns from merged_df, where we use pivot to simplify the task\n",
    "return_df = merged_df.pivot(index='Date', columns='Symbol', values='Return')\n",
    "return_df.head()"
   ]
  },
  {
   "cell_type": "markdown",
   "metadata": {},
   "source": [
    "Combinemos los rendimientos de mercado más amplios del SPY ```market_df``` cargado anteriormente:"
   ]
  },
  {
   "cell_type": "code",
   "execution_count": 27,
   "metadata": {},
   "outputs": [
    {
     "data": {
      "text/html": [
       "<div>\n",
       "<style scoped>\n",
       "    .dataframe tbody tr th:only-of-type {\n",
       "        vertical-align: middle;\n",
       "    }\n",
       "\n",
       "    .dataframe tbody tr th {\n",
       "        vertical-align: top;\n",
       "    }\n",
       "\n",
       "    .dataframe thead th {\n",
       "        text-align: right;\n",
       "    }\n",
       "</style>\n",
       "<table border=\"1\" class=\"dataframe\">\n",
       "  <thead>\n",
       "    <tr style=\"text-align: right;\">\n",
       "      <th></th>\n",
       "      <th>Date</th>\n",
       "      <th>D</th>\n",
       "      <th>DUK</th>\n",
       "      <th>EXC</th>\n",
       "      <th>NEE</th>\n",
       "      <th>SO</th>\n",
       "      <th>MarketReturn</th>\n",
       "    </tr>\n",
       "  </thead>\n",
       "  <tbody>\n",
       "    <tr>\n",
       "      <th>0</th>\n",
       "      <td>2014-08-18</td>\n",
       "      <td>-0.004205</td>\n",
       "      <td>-0.002905</td>\n",
       "      <td>-0.003445</td>\n",
       "      <td>-0.004659</td>\n",
       "      <td>-0.003446</td>\n",
       "      <td>0.002846</td>\n",
       "    </tr>\n",
       "    <tr>\n",
       "      <th>1</th>\n",
       "      <td>2014-08-19</td>\n",
       "      <td>0.013250</td>\n",
       "      <td>0.009838</td>\n",
       "      <td>0.001567</td>\n",
       "      <td>0.008393</td>\n",
       "      <td>0.005741</td>\n",
       "      <td>0.002780</td>\n",
       "    </tr>\n",
       "    <tr>\n",
       "      <th>2</th>\n",
       "      <td>2014-08-20</td>\n",
       "      <td>0.001438</td>\n",
       "      <td>0.002480</td>\n",
       "      <td>0.000313</td>\n",
       "      <td>0.005349</td>\n",
       "      <td>0.005508</td>\n",
       "      <td>0.004038</td>\n",
       "    </tr>\n",
       "    <tr>\n",
       "      <th>3</th>\n",
       "      <td>2014-08-21</td>\n",
       "      <td>0.000718</td>\n",
       "      <td>0.003159</td>\n",
       "      <td>0.010022</td>\n",
       "      <td>0.002147</td>\n",
       "      <td>0.000000</td>\n",
       "      <td>0.002059</td>\n",
       "    </tr>\n",
       "    <tr>\n",
       "      <th>4</th>\n",
       "      <td>2014-08-22</td>\n",
       "      <td>-0.004297</td>\n",
       "      <td>-0.008302</td>\n",
       "      <td>0.006213</td>\n",
       "      <td>-0.003470</td>\n",
       "      <td>-0.003195</td>\n",
       "      <td>-0.000752</td>\n",
       "    </tr>\n",
       "  </tbody>\n",
       "</table>\n",
       "</div>"
      ],
      "text/plain": [
       "         Date         D       DUK       EXC       NEE        SO  MarketReturn\n",
       "0  2014-08-18 -0.004205 -0.002905 -0.003445 -0.004659 -0.003446      0.002846\n",
       "1  2014-08-19  0.013250  0.009838  0.001567  0.008393  0.005741      0.002780\n",
       "2  2014-08-20  0.001438  0.002480  0.000313  0.005349  0.005508      0.004038\n",
       "3  2014-08-21  0.000718  0.003159  0.010022  0.002147  0.000000      0.002059\n",
       "4  2014-08-22 -0.004297 -0.008302  0.006213 -0.003470 -0.003195     -0.000752"
      ]
     },
     "execution_count": 27,
     "metadata": {},
     "output_type": "execute_result"
    }
   ],
   "source": [
    "# Let's merge the SPY (broader market) returns by Date onto the return_df DataFrame\n",
    "full_df = pd.merge(return_df, market_df[['Date','Return']].set_index('Date'), left_index=True, right_index=True)\n",
    "full_df = full_df.rename(columns={'Return':'MarketReturn'}).reset_index()\n",
    "full_df.head()"
   ]
  },
  {
   "cell_type": "markdown",
   "metadata": {},
   "source": [
    "A través de unas pocas líneas simples hemos creado un DataFrame ```full_df``` donde cada valor es un retorno diario de apertura a cierre, ya sea para uno de los cinco símbolos en estudio o para el mercado más amplio.\n",
    "\n",
    "Procedemos utilizando ``pd.qcut ()`` con 10 cuantiles. En general, el número de cuantiles debe elegirse en función del nivel de detalle de la vista que necesite."
   ]
  },
  {
   "cell_type": "code",
   "execution_count": 28,
   "metadata": {},
   "outputs": [
    {
     "data": {
      "text/html": [
       "<div>\n",
       "<style scoped>\n",
       "    .dataframe tbody tr th:only-of-type {\n",
       "        vertical-align: middle;\n",
       "    }\n",
       "\n",
       "    .dataframe tbody tr th {\n",
       "        vertical-align: top;\n",
       "    }\n",
       "\n",
       "    .dataframe thead th {\n",
       "        text-align: right;\n",
       "    }\n",
       "</style>\n",
       "<table border=\"1\" class=\"dataframe\">\n",
       "  <thead>\n",
       "    <tr style=\"text-align: right;\">\n",
       "      <th></th>\n",
       "      <th>Date</th>\n",
       "      <th>D</th>\n",
       "      <th>DUK</th>\n",
       "      <th>EXC</th>\n",
       "      <th>NEE</th>\n",
       "      <th>SO</th>\n",
       "      <th>MarketReturn</th>\n",
       "      <th>market_quantile</th>\n",
       "    </tr>\n",
       "  </thead>\n",
       "  <tbody>\n",
       "    <tr>\n",
       "      <th>0</th>\n",
       "      <td>2014-08-18</td>\n",
       "      <td>-0.004205</td>\n",
       "      <td>-0.002905</td>\n",
       "      <td>-0.003445</td>\n",
       "      <td>-0.004659</td>\n",
       "      <td>-0.003446</td>\n",
       "      <td>0.002846</td>\n",
       "      <td>7</td>\n",
       "    </tr>\n",
       "    <tr>\n",
       "      <th>1</th>\n",
       "      <td>2014-08-19</td>\n",
       "      <td>0.013250</td>\n",
       "      <td>0.009838</td>\n",
       "      <td>0.001567</td>\n",
       "      <td>0.008393</td>\n",
       "      <td>0.005741</td>\n",
       "      <td>0.002780</td>\n",
       "      <td>7</td>\n",
       "    </tr>\n",
       "    <tr>\n",
       "      <th>2</th>\n",
       "      <td>2014-08-20</td>\n",
       "      <td>0.001438</td>\n",
       "      <td>0.002480</td>\n",
       "      <td>0.000313</td>\n",
       "      <td>0.005349</td>\n",
       "      <td>0.005508</td>\n",
       "      <td>0.004038</td>\n",
       "      <td>7</td>\n",
       "    </tr>\n",
       "    <tr>\n",
       "      <th>3</th>\n",
       "      <td>2014-08-21</td>\n",
       "      <td>0.000718</td>\n",
       "      <td>0.003159</td>\n",
       "      <td>0.010022</td>\n",
       "      <td>0.002147</td>\n",
       "      <td>0.000000</td>\n",
       "      <td>0.002059</td>\n",
       "      <td>6</td>\n",
       "    </tr>\n",
       "    <tr>\n",
       "      <th>4</th>\n",
       "      <td>2014-08-22</td>\n",
       "      <td>-0.004297</td>\n",
       "      <td>-0.008302</td>\n",
       "      <td>0.006213</td>\n",
       "      <td>-0.003470</td>\n",
       "      <td>-0.003195</td>\n",
       "      <td>-0.000752</td>\n",
       "      <td>3</td>\n",
       "    </tr>\n",
       "  </tbody>\n",
       "</table>\n",
       "</div>"
      ],
      "text/plain": [
       "         Date         D       DUK       EXC       NEE        SO  MarketReturn  \\\n",
       "0  2014-08-18 -0.004205 -0.002905 -0.003445 -0.004659 -0.003446      0.002846   \n",
       "1  2014-08-19  0.013250  0.009838  0.001567  0.008393  0.005741      0.002780   \n",
       "2  2014-08-20  0.001438  0.002480  0.000313  0.005349  0.005508      0.004038   \n",
       "3  2014-08-21  0.000718  0.003159  0.010022  0.002147  0.000000      0.002059   \n",
       "4  2014-08-22 -0.004297 -0.008302  0.006213 -0.003470 -0.003195     -0.000752   \n",
       "\n",
       "   market_quantile  \n",
       "0                7  \n",
       "1                7  \n",
       "2                7  \n",
       "3                6  \n",
       "4                3  "
      ]
     },
     "execution_count": 28,
     "metadata": {},
     "output_type": "execute_result"
    }
   ],
   "source": [
    "# Create 10 quantile categories by the market return\n",
    "num_quantiles = 10\n",
    "full_df['market_quantile'] = pd.qcut(full_df['MarketReturn'],num_quantiles,labels=False)\n",
    "full_df.head()"
   ]
  },
  {
   "cell_type": "markdown",
   "metadata": {},
   "source": [
    "Ahora agrupemos por ```market_quantile``` y calculemos el rendimiento medio de todos los símbolos:"
   ]
  },
  {
   "cell_type": "code",
   "execution_count": 29,
   "metadata": {
    "scrolled": true
   },
   "outputs": [
    {
     "data": {
      "text/html": [
       "<div>\n",
       "<style scoped>\n",
       "    .dataframe tbody tr th:only-of-type {\n",
       "        vertical-align: middle;\n",
       "    }\n",
       "\n",
       "    .dataframe tbody tr th {\n",
       "        vertical-align: top;\n",
       "    }\n",
       "\n",
       "    .dataframe thead th {\n",
       "        text-align: right;\n",
       "    }\n",
       "</style>\n",
       "<table border=\"1\" class=\"dataframe\">\n",
       "  <thead>\n",
       "    <tr style=\"text-align: right;\">\n",
       "      <th></th>\n",
       "      <th>D</th>\n",
       "      <th>DUK</th>\n",
       "      <th>EXC</th>\n",
       "      <th>NEE</th>\n",
       "      <th>SO</th>\n",
       "      <th>MarketReturn</th>\n",
       "    </tr>\n",
       "    <tr>\n",
       "      <th>market_quantile</th>\n",
       "      <th></th>\n",
       "      <th></th>\n",
       "      <th></th>\n",
       "      <th></th>\n",
       "      <th></th>\n",
       "      <th></th>\n",
       "    </tr>\n",
       "  </thead>\n",
       "  <tbody>\n",
       "    <tr>\n",
       "      <th>0</th>\n",
       "      <td>-0.004553</td>\n",
       "      <td>-0.003282</td>\n",
       "      <td>-0.006711</td>\n",
       "      <td>-0.004723</td>\n",
       "      <td>-0.002890</td>\n",
       "      <td>-0.013363</td>\n",
       "    </tr>\n",
       "    <tr>\n",
       "      <th>1</th>\n",
       "      <td>-0.002423</td>\n",
       "      <td>-0.001444</td>\n",
       "      <td>-0.002686</td>\n",
       "      <td>-0.001001</td>\n",
       "      <td>-0.000830</td>\n",
       "      <td>-0.005045</td>\n",
       "    </tr>\n",
       "    <tr>\n",
       "      <th>2</th>\n",
       "      <td>-0.001612</td>\n",
       "      <td>-0.000617</td>\n",
       "      <td>-0.001087</td>\n",
       "      <td>-0.000693</td>\n",
       "      <td>-0.000061</td>\n",
       "      <td>-0.002577</td>\n",
       "    </tr>\n",
       "    <tr>\n",
       "      <th>3</th>\n",
       "      <td>0.001010</td>\n",
       "      <td>0.000420</td>\n",
       "      <td>-0.001277</td>\n",
       "      <td>0.000728</td>\n",
       "      <td>0.000938</td>\n",
       "      <td>-0.001154</td>\n",
       "    </tr>\n",
       "    <tr>\n",
       "      <th>4</th>\n",
       "      <td>0.001189</td>\n",
       "      <td>0.000615</td>\n",
       "      <td>0.000377</td>\n",
       "      <td>0.000903</td>\n",
       "      <td>0.000444</td>\n",
       "      <td>-0.000113</td>\n",
       "    </tr>\n",
       "    <tr>\n",
       "      <th>5</th>\n",
       "      <td>-0.001516</td>\n",
       "      <td>-0.001656</td>\n",
       "      <td>-0.000699</td>\n",
       "      <td>-0.000985</td>\n",
       "      <td>-0.001240</td>\n",
       "      <td>0.000887</td>\n",
       "    </tr>\n",
       "    <tr>\n",
       "      <th>6</th>\n",
       "      <td>0.001950</td>\n",
       "      <td>0.001233</td>\n",
       "      <td>0.002246</td>\n",
       "      <td>0.002210</td>\n",
       "      <td>0.001040</td>\n",
       "      <td>0.002055</td>\n",
       "    </tr>\n",
       "    <tr>\n",
       "      <th>7</th>\n",
       "      <td>0.001804</td>\n",
       "      <td>0.000505</td>\n",
       "      <td>0.001006</td>\n",
       "      <td>0.000831</td>\n",
       "      <td>0.000963</td>\n",
       "      <td>0.003568</td>\n",
       "    </tr>\n",
       "    <tr>\n",
       "      <th>8</th>\n",
       "      <td>0.002148</td>\n",
       "      <td>0.002366</td>\n",
       "      <td>0.004323</td>\n",
       "      <td>0.003042</td>\n",
       "      <td>0.002563</td>\n",
       "      <td>0.005787</td>\n",
       "    </tr>\n",
       "    <tr>\n",
       "      <th>9</th>\n",
       "      <td>0.005446</td>\n",
       "      <td>0.004366</td>\n",
       "      <td>0.007506</td>\n",
       "      <td>0.006591</td>\n",
       "      <td>0.004721</td>\n",
       "      <td>0.012087</td>\n",
       "    </tr>\n",
       "  </tbody>\n",
       "</table>\n",
       "</div>"
      ],
      "text/plain": [
       "                        D       DUK       EXC       NEE        SO  \\\n",
       "market_quantile                                                     \n",
       "0               -0.004553 -0.003282 -0.006711 -0.004723 -0.002890   \n",
       "1               -0.002423 -0.001444 -0.002686 -0.001001 -0.000830   \n",
       "2               -0.001612 -0.000617 -0.001087 -0.000693 -0.000061   \n",
       "3                0.001010  0.000420 -0.001277  0.000728  0.000938   \n",
       "4                0.001189  0.000615  0.000377  0.000903  0.000444   \n",
       "5               -0.001516 -0.001656 -0.000699 -0.000985 -0.001240   \n",
       "6                0.001950  0.001233  0.002246  0.002210  0.001040   \n",
       "7                0.001804  0.000505  0.001006  0.000831  0.000963   \n",
       "8                0.002148  0.002366  0.004323  0.003042  0.002563   \n",
       "9                0.005446  0.004366  0.007506  0.006591  0.004721   \n",
       "\n",
       "                 MarketReturn  \n",
       "market_quantile                \n",
       "0                   -0.013363  \n",
       "1                   -0.005045  \n",
       "2                   -0.002577  \n",
       "3                   -0.001154  \n",
       "4                   -0.000113  \n",
       "5                    0.000887  \n",
       "6                    0.002055  \n",
       "7                    0.003568  \n",
       "8                    0.005787  \n",
       "9                    0.012087  "
      ]
     },
     "execution_count": 29,
     "metadata": {},
     "output_type": "execute_result"
    }
   ],
   "source": [
    "# Group by market quantile and calculate the mean return\n",
    "full_df.groupby('market_quantile').mean()"
   ]
  },
  {
   "cell_type": "markdown",
   "metadata": {},
   "source": [
    "Cada valor en la salida de DataFrame anterior es una media de los retornos diarios para un símbolo dado, donde la media se toma en todas las fechas que corresponden al ``market_quantile`` listado como el índice del DataFrame de salida. Tenga en cuenta que los cuantiles más altos indican rendimientos de mercado más altos, mientras que los números de cuantiles más bajos indican rendimientos de mercado más bajos (en este caso, rendimientos de mercado negativos).\n",
    "\n",
    "Vemos aquí que los rendimientos de las acciones de energía de hecho siguen un patrón cuando los rendimientos de SPY son grandes (número de cuantil más alto) o pequeños (número de cuantil más bajo). Es decir, los rendimientos de las acciones de las acciones individuales siguen el mismo patrón que los del mercado en general. Por tanto, el mercado más amplio tiene un efecto sobre los rendimientos de una sola acción; es decir, la magnitud del rendimiento general del mercado de valores está correlacionada con la magnitud del rendimiento de las acciones individuales."
   ]
  },
  {
   "cell_type": "markdown",
   "metadata": {},
   "source": [
    "### Ejercicio 8:\n",
    "\n",
    "Creamos cuantiles para los retornos de mercado y posteriormente calculamos el retorno medio para cada uno de estos cuantiles. Realice un análisis similar al anterior, pero en su lugar agrupe por cuantiles para la volatilidad del mercado en lugar de los rendimientos del mercado, y calcule la desviación estándar de los rendimientos para cada categoría de cuantiles de volatilidad del mercado en lugar del rendimiento medio."
   ]
  },
  {
   "cell_type": "code",
   "execution_count": null,
   "metadata": {},
   "outputs": [],
   "source": []
  },
  {
   "cell_type": "code",
   "execution_count": null,
   "metadata": {},
   "outputs": [],
   "source": []
  },
  {
   "cell_type": "code",
   "execution_count": null,
   "metadata": {},
   "outputs": [],
   "source": []
  },
  {
   "cell_type": "markdown",
   "metadata": {},
   "source": [
    "De manera similar a cómo las direcciones de los rendimientos de las acciones siguen las del mercado en general, la volatilidad de los rendimientos de las acciones también sigue la volatilidad de los rendimientos del mercado en general. Esto justifica un análisis más detallado de la causa raíz de este efecto como un proyecto futuro."
   ]
  },
  {
   "cell_type": "markdown",
   "metadata": {},
   "source": [
    "## Conclusiones"
   ]
  },
  {
   "cell_type": "markdown",
   "metadata": {},
   "source": [
    "Hemos explorado los rendimientos de las acciones de las cinco acciones del sector energético en términos de sus propios regímenes de volatilidad y sus rendimientos y volatilidad en relación con el mercado en general. Descubrimos que para las acciones en estudio, no existe un vínculo fuerte entre el nivel de volatilidad y la dirección del rendimiento diario de las acciones. Además, encontramos que cuando se comparan las acciones con el mercado en general, sus rendimientos y niveles de volatilidad se amplifican cuando los rendimientos del mercado y los niveles de volatilidad son altos. Estos hallazgos indican que existe un vínculo intrínseco entre los rendimientos y la volatilidad, tanto en el caso de una sola acción como en el caso del mercado en general. Esto brinda una variedad de vías de exploración para proyectos de seguimiento."
   ]
  },
  {
   "cell_type": "markdown",
   "metadata": {},
   "source": [
    "## Para rescatar"
   ]
  },
  {
   "cell_type": "markdown",
   "metadata": {},
   "source": [
    "En este caso, aprendió varias herramientas de manipulación de datos en ``pandas``, que incluyen funciones anónimas, agrupación, fusión, corte de cuantiles y pivoteo, mientras utiliza las técnicas de análisis de agregación y transformación de datos que hemos aprendido anteriormente.\n",
    "\n",
    "``` pandas``` es un paquete increíblemente versátil y puede aumentar significativamente la productividad y brindar información empresarial excepcional. Estas técnicas deben servir como una base sólida para cualquier análisis de datos futuro que pueda realizar."
   ]
  },
  {
   "cell_type": "code",
   "execution_count": null,
   "metadata": {},
   "outputs": [],
   "source": []
  }
 ],
 "metadata": {
  "kernelspec": {
   "display_name": "Python 3",
   "language": "python",
   "name": "python3"
  },
  "language_info": {
   "codemirror_mode": {
    "name": "ipython",
    "version": 3
   },
   "file_extension": ".py",
   "mimetype": "text/x-python",
   "name": "python",
   "nbconvert_exporter": "python",
   "pygments_lexer": "ipython3",
   "version": "3.8.0"
  }
 },
 "nbformat": 4,
 "nbformat_minor": 2
}
